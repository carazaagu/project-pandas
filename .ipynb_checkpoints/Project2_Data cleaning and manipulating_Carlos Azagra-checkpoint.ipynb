{
 "cells": [
  {
   "cell_type": "markdown",
   "id": "imposed-trace",
   "metadata": {},
   "source": [
    "# Project Pandas_Carlos Azagra"
   ]
  },
  {
   "cell_type": "markdown",
   "id": "royal-ladder",
   "metadata": {},
   "source": [
    "The main goals from this projects are:\n",
    "- Getting used to work with pandas\n",
    "- Clean a (messy) Dataset\n",
    "- Manipulate a Dataset\n",
    "- Obtain information from a Dataset\n",
    "- Create insights from the information obtained\n",
    "\n",
    "In order to do so, I will follow the next steps:\n",
    "1. Import Data & Libraries\n",
    "2. Rows processing\n",
    "3. Single columns processing\n",
    "4. Combined columns processing"
   ]
  },
  {
   "cell_type": "markdown",
   "id": "incomplete-moderator",
   "metadata": {
    "heading_collapsed": true
   },
   "source": [
    "## Import Data & Libraries"
   ]
  },
  {
   "cell_type": "markdown",
   "id": "anonymous-parking",
   "metadata": {
    "hidden": true
   },
   "source": [
    "In this module I will be downloading the **attacks.csv** file from the website that has been sourcered in github and I will be moving it in the same repository where this file **data-wrangling.ipynb** is.\\\n",
    "\\\n",
    "It will allow me to read **attacks.csv** file by just indicatinb the current working directory and concatenating a string with the name of the file.\n",
    "Other libraries such as **pandas**, **datetime**, **re**, **random** or **numpy** will be imported as well in case I can could need them."
   ]
  },
  {
   "cell_type": "code",
   "execution_count": 1,
   "id": "chronic-stream",
   "metadata": {
    "hidden": true
   },
   "outputs": [],
   "source": [
    "import os\n",
    "import pandas as pd\n",
    "import datetime as dt\n",
    "import re\n",
    "import random\n",
    "import numpy as np"
   ]
  },
  {
   "cell_type": "code",
   "execution_count": 2,
   "id": "protected-fraud",
   "metadata": {
    "hidden": true
   },
   "outputs": [],
   "source": [
    "cwd = os.getcwd()"
   ]
  },
  {
   "cell_type": "code",
   "execution_count": 3,
   "id": "searching-census",
   "metadata": {
    "hidden": true
   },
   "outputs": [],
   "source": [
    "df = pd.read_csv(cwd + '\\\\attacks.csv')"
   ]
  },
  {
   "cell_type": "markdown",
   "id": "eight-cartoon",
   "metadata": {
    "hidden": true
   },
   "source": [
    "In the following modules I will be navigating through the raw data obtained from the file in order to understand the basic information the file is providing, understanding the data, its types, its meaning, its importance or irrelevance"
   ]
  },
  {
   "cell_type": "markdown",
   "id": "greek-enemy",
   "metadata": {
    "heading_collapsed": true
   },
   "source": [
    "## Rows"
   ]
  },
  {
   "cell_type": "markdown",
   "id": "impressed-mainland",
   "metadata": {
    "hidden": true
   },
   "source": [
    "In this module I will be deleting useless data:\n",
    "- Missing values\n",
    "- Duplicates"
   ]
  },
  {
   "cell_type": "code",
   "execution_count": 4,
   "id": "dress-malta",
   "metadata": {
    "hidden": true
   },
   "outputs": [
    {
     "data": {
      "text/plain": [
       "(25723, 24)"
      ]
     },
     "execution_count": 4,
     "metadata": {},
     "output_type": "execute_result"
    }
   ],
   "source": [
    "# The dataframe has 25.723 rows\n",
    "df.shape"
   ]
  },
  {
   "cell_type": "code",
   "execution_count": 5,
   "id": "worth-aquatic",
   "metadata": {
    "hidden": true
   },
   "outputs": [],
   "source": [
    "# First of all, I will drop rows with all NaN\n",
    "df.dropna(how='all', inplace=True)"
   ]
  },
  {
   "cell_type": "code",
   "execution_count": 6,
   "id": "universal-mechanics",
   "metadata": {
    "hidden": true
   },
   "outputs": [
    {
     "data": {
      "text/plain": [
       "(8703, 24)"
      ]
     },
     "execution_count": 6,
     "metadata": {},
     "output_type": "execute_result"
    }
   ],
   "source": [
    "# Only 8703 cases are left\n",
    "df.shape"
   ]
  },
  {
   "cell_type": "code",
   "execution_count": 7,
   "id": "elect-detector",
   "metadata": {
    "hidden": true
   },
   "outputs": [],
   "source": [
    "# Secondly, I will try to drop duplicates in case there are any\n",
    "df.drop_duplicates(inplace=True)"
   ]
  },
  {
   "cell_type": "code",
   "execution_count": 8,
   "id": "damaged-jurisdiction",
   "metadata": {
    "hidden": true
   },
   "outputs": [
    {
     "data": {
      "text/plain": [
       "(6311, 24)"
      ]
     },
     "execution_count": 8,
     "metadata": {},
     "output_type": "execute_result"
    }
   ],
   "source": [
    "# Only 6311 cases are left\n",
    "df.shape"
   ]
  },
  {
   "cell_type": "code",
   "execution_count": 9,
   "id": "interpreted-bunch",
   "metadata": {
    "hidden": true
   },
   "outputs": [],
   "source": [
    "# I will delete the rows that have more than 20 NaN\n",
    "for i,j in df.iterrows():\n",
    "    if j.isna().sum() > 20:\n",
    "        df.drop(i, inplace=True)"
   ]
  },
  {
   "cell_type": "code",
   "execution_count": 10,
   "id": "fundamental-research",
   "metadata": {
    "hidden": true
   },
   "outputs": [
    {
     "data": {
      "text/plain": [
       "(6302, 24)"
      ]
     },
     "execution_count": 10,
     "metadata": {},
     "output_type": "execute_result"
    }
   ],
   "source": [
    "# Only 6302 cases are left\n",
    "df.shape"
   ]
  },
  {
   "cell_type": "markdown",
   "id": "eleven-blackjack",
   "metadata": {
    "heading_collapsed": true
   },
   "source": [
    "## Single Columns"
   ]
  },
  {
   "cell_type": "markdown",
   "id": "brilliant-beverage",
   "metadata": {
    "hidden": true
   },
   "source": [
    "In this module I will clean the data and make some visualizations, column by column"
   ]
  },
  {
   "cell_type": "code",
   "execution_count": 11,
   "id": "alive-starter",
   "metadata": {
    "hidden": true
   },
   "outputs": [
    {
     "name": "stdout",
     "output_type": "stream",
     "text": [
      "<class 'pandas.core.frame.DataFrame'>\n",
      "Int64Index: 6302 entries, 0 to 6301\n",
      "Data columns (total 24 columns):\n",
      " #   Column                  Non-Null Count  Dtype  \n",
      "---  ------                  --------------  -----  \n",
      " 0   Case Number             6301 non-null   object \n",
      " 1   Date                    6302 non-null   object \n",
      " 2   Year                    6300 non-null   float64\n",
      " 3   Type                    6298 non-null   object \n",
      " 4   Country                 6252 non-null   object \n",
      " 5   Area                    5847 non-null   object \n",
      " 6   Location                5762 non-null   object \n",
      " 7   Activity                5758 non-null   object \n",
      " 8   Name                    6092 non-null   object \n",
      " 9   Sex                     5737 non-null   object \n",
      " 10  Age                     3471 non-null   object \n",
      " 11  Injury                  6274 non-null   object \n",
      " 12  Fatal (Y/N)             5763 non-null   object \n",
      " 13  Time                    2948 non-null   object \n",
      " 14  Species                 3464 non-null   object \n",
      " 15  Investigator or Source  6285 non-null   object \n",
      " 16  pdf                     6302 non-null   object \n",
      " 17  href formula            6301 non-null   object \n",
      " 18  href                    6302 non-null   object \n",
      " 19  Case Number.1           6302 non-null   object \n",
      " 20  Case Number.2           6302 non-null   object \n",
      " 21  original order          6302 non-null   float64\n",
      " 22  Unnamed: 22             1 non-null      object \n",
      " 23  Unnamed: 23             2 non-null      object \n",
      "dtypes: float64(2), object(22)\n",
      "memory usage: 689.3+ KB\n"
     ]
    }
   ],
   "source": [
    "# I check the df.info() to check the columns basic info\n",
    "df.info()"
   ]
  },
  {
   "cell_type": "markdown",
   "id": "ecological-comedy",
   "metadata": {
    "hidden": true
   },
   "source": [
    "### Unnamed"
   ]
  },
  {
   "cell_type": "code",
   "execution_count": 12,
   "id": "aware-brunswick",
   "metadata": {
    "hidden": true
   },
   "outputs": [],
   "source": [
    "# There are 2 Unnamed columns that just have 1 and 2 non-null cells. I will check what those cells content is"
   ]
  },
  {
   "cell_type": "code",
   "execution_count": 13,
   "id": "operating-finish",
   "metadata": {
    "hidden": true
   },
   "outputs": [
    {
     "data": {
      "text/html": [
       "<div>\n",
       "<style scoped>\n",
       "    .dataframe tbody tr th:only-of-type {\n",
       "        vertical-align: middle;\n",
       "    }\n",
       "\n",
       "    .dataframe tbody tr th {\n",
       "        vertical-align: top;\n",
       "    }\n",
       "\n",
       "    .dataframe thead th {\n",
       "        text-align: right;\n",
       "    }\n",
       "</style>\n",
       "<table border=\"1\" class=\"dataframe\">\n",
       "  <thead>\n",
       "    <tr style=\"text-align: right;\">\n",
       "      <th></th>\n",
       "      <th>Case Number</th>\n",
       "      <th>Date</th>\n",
       "      <th>Year</th>\n",
       "      <th>Type</th>\n",
       "      <th>Country</th>\n",
       "      <th>Area</th>\n",
       "      <th>Location</th>\n",
       "      <th>Activity</th>\n",
       "      <th>Name</th>\n",
       "      <th>Sex</th>\n",
       "      <th>...</th>\n",
       "      <th>Species</th>\n",
       "      <th>Investigator or Source</th>\n",
       "      <th>pdf</th>\n",
       "      <th>href formula</th>\n",
       "      <th>href</th>\n",
       "      <th>Case Number.1</th>\n",
       "      <th>Case Number.2</th>\n",
       "      <th>original order</th>\n",
       "      <th>Unnamed: 22</th>\n",
       "      <th>Unnamed: 23</th>\n",
       "    </tr>\n",
       "  </thead>\n",
       "  <tbody>\n",
       "    <tr>\n",
       "      <th>1478</th>\n",
       "      <td>2006.05.27</td>\n",
       "      <td>27-May-2006</td>\n",
       "      <td>2006.0</td>\n",
       "      <td>Unprovoked</td>\n",
       "      <td>USA</td>\n",
       "      <td>Hawaii</td>\n",
       "      <td>North Shore, O'ahu</td>\n",
       "      <td>Surfing</td>\n",
       "      <td>Bret Desmond</td>\n",
       "      <td>M</td>\n",
       "      <td>...</td>\n",
       "      <td>NaN</td>\n",
       "      <td>R. Collier</td>\n",
       "      <td>2006.05.27-Desmond.pdf</td>\n",
       "      <td>http://sharkattackfile.net/spreadsheets/pdf_di...</td>\n",
       "      <td>http://sharkattackfile.net/spreadsheets/pdf_di...</td>\n",
       "      <td>2006.05.27</td>\n",
       "      <td>2006.05.27</td>\n",
       "      <td>4825.0</td>\n",
       "      <td>stopped here</td>\n",
       "      <td>NaN</td>\n",
       "    </tr>\n",
       "  </tbody>\n",
       "</table>\n",
       "<p>1 rows × 24 columns</p>\n",
       "</div>"
      ],
      "text/plain": [
       "     Case Number         Date    Year        Type Country    Area  \\\n",
       "1478  2006.05.27  27-May-2006  2006.0  Unprovoked     USA  Hawaii   \n",
       "\n",
       "                Location Activity          Name Sex   ... Species   \\\n",
       "1478  North Shore, O'ahu  Surfing  Bret Desmond    M  ...      NaN   \n",
       "\n",
       "     Investigator or Source                     pdf  \\\n",
       "1478             R. Collier  2006.05.27-Desmond.pdf   \n",
       "\n",
       "                                           href formula  \\\n",
       "1478  http://sharkattackfile.net/spreadsheets/pdf_di...   \n",
       "\n",
       "                                                   href Case Number.1  \\\n",
       "1478  http://sharkattackfile.net/spreadsheets/pdf_di...    2006.05.27   \n",
       "\n",
       "     Case Number.2 original order   Unnamed: 22 Unnamed: 23  \n",
       "1478    2006.05.27         4825.0  stopped here         NaN  \n",
       "\n",
       "[1 rows x 24 columns]"
      ]
     },
     "execution_count": 13,
     "metadata": {},
     "output_type": "execute_result"
    }
   ],
   "source": [
    "df[df['Unnamed: 22'].notna()]"
   ]
  },
  {
   "cell_type": "code",
   "execution_count": 14,
   "id": "accredited-seafood",
   "metadata": {
    "hidden": true
   },
   "outputs": [
    {
     "data": {
      "text/html": [
       "<div>\n",
       "<style scoped>\n",
       "    .dataframe tbody tr th:only-of-type {\n",
       "        vertical-align: middle;\n",
       "    }\n",
       "\n",
       "    .dataframe tbody tr th {\n",
       "        vertical-align: top;\n",
       "    }\n",
       "\n",
       "    .dataframe thead th {\n",
       "        text-align: right;\n",
       "    }\n",
       "</style>\n",
       "<table border=\"1\" class=\"dataframe\">\n",
       "  <thead>\n",
       "    <tr style=\"text-align: right;\">\n",
       "      <th></th>\n",
       "      <th>Case Number</th>\n",
       "      <th>Date</th>\n",
       "      <th>Year</th>\n",
       "      <th>Type</th>\n",
       "      <th>Country</th>\n",
       "      <th>Area</th>\n",
       "      <th>Location</th>\n",
       "      <th>Activity</th>\n",
       "      <th>Name</th>\n",
       "      <th>Sex</th>\n",
       "      <th>...</th>\n",
       "      <th>Species</th>\n",
       "      <th>Investigator or Source</th>\n",
       "      <th>pdf</th>\n",
       "      <th>href formula</th>\n",
       "      <th>href</th>\n",
       "      <th>Case Number.1</th>\n",
       "      <th>Case Number.2</th>\n",
       "      <th>original order</th>\n",
       "      <th>Unnamed: 22</th>\n",
       "      <th>Unnamed: 23</th>\n",
       "    </tr>\n",
       "  </thead>\n",
       "  <tbody>\n",
       "    <tr>\n",
       "      <th>4415</th>\n",
       "      <td>1952.03.30</td>\n",
       "      <td>30-Mar-1952</td>\n",
       "      <td>1952.0</td>\n",
       "      <td>Unprovoked</td>\n",
       "      <td>NETHERLANDS ANTILLES</td>\n",
       "      <td>Curacao</td>\n",
       "      <td>NaN</td>\n",
       "      <td>Went to aid of child being menaced by the shark</td>\n",
       "      <td>A.J. Eggink</td>\n",
       "      <td>M</td>\n",
       "      <td>...</td>\n",
       "      <td>Bull shark, 2.7 m [9'] was captured &amp; dragged ...</td>\n",
       "      <td>J. Randall, p.352 in Sharks &amp; Survival; H.D. B...</td>\n",
       "      <td>1952.03.30-Eggink.pdf</td>\n",
       "      <td>http://sharkattackfile.net/spreadsheets/pdf_di...</td>\n",
       "      <td>http://sharkattackfile.net/spreadsheets/pdf_di...</td>\n",
       "      <td>1952.03.30</td>\n",
       "      <td>1952.03.30</td>\n",
       "      <td>1888.0</td>\n",
       "      <td>NaN</td>\n",
       "      <td>Teramo</td>\n",
       "    </tr>\n",
       "    <tr>\n",
       "      <th>5840</th>\n",
       "      <td>1878.09.14.R</td>\n",
       "      <td>Reported 14-Sep-1878</td>\n",
       "      <td>1878.0</td>\n",
       "      <td>Provoked</td>\n",
       "      <td>USA</td>\n",
       "      <td>Connecticut</td>\n",
       "      <td>Branford, New Haven County</td>\n",
       "      <td>Fishing</td>\n",
       "      <td>Captain Pattison</td>\n",
       "      <td>M</td>\n",
       "      <td>...</td>\n",
       "      <td>NaN</td>\n",
       "      <td>St. Joseph Herald, 9/14/1878</td>\n",
       "      <td>1878.09.14.R-Pattison.pdf</td>\n",
       "      <td>http://sharkattackfile.net/spreadsheets/pdf_di...</td>\n",
       "      <td>http://sharkattackfile.net/spreadsheets/pdf_di...</td>\n",
       "      <td>1878.09.14.R</td>\n",
       "      <td>1878.09.14.R</td>\n",
       "      <td>463.0</td>\n",
       "      <td>NaN</td>\n",
       "      <td>change filename</td>\n",
       "    </tr>\n",
       "  </tbody>\n",
       "</table>\n",
       "<p>2 rows × 24 columns</p>\n",
       "</div>"
      ],
      "text/plain": [
       "       Case Number                  Date    Year        Type  \\\n",
       "4415    1952.03.30           30-Mar-1952  1952.0  Unprovoked   \n",
       "5840  1878.09.14.R  Reported 14-Sep-1878  1878.0    Provoked   \n",
       "\n",
       "                   Country         Area                    Location  \\\n",
       "4415  NETHERLANDS ANTILLES      Curacao                         NaN   \n",
       "5840                   USA  Connecticut  Branford, New Haven County   \n",
       "\n",
       "                                             Activity              Name Sex   \\\n",
       "4415  Went to aid of child being menaced by the shark       A.J. Eggink    M   \n",
       "5840                                          Fishing  Captain Pattison    M   \n",
       "\n",
       "      ...                                           Species   \\\n",
       "4415  ...  Bull shark, 2.7 m [9'] was captured & dragged ...   \n",
       "5840  ...                                                NaN   \n",
       "\n",
       "                                 Investigator or Source  \\\n",
       "4415  J. Randall, p.352 in Sharks & Survival; H.D. B...   \n",
       "5840                       St. Joseph Herald, 9/14/1878   \n",
       "\n",
       "                            pdf  \\\n",
       "4415      1952.03.30-Eggink.pdf   \n",
       "5840  1878.09.14.R-Pattison.pdf   \n",
       "\n",
       "                                           href formula  \\\n",
       "4415  http://sharkattackfile.net/spreadsheets/pdf_di...   \n",
       "5840  http://sharkattackfile.net/spreadsheets/pdf_di...   \n",
       "\n",
       "                                                   href Case Number.1  \\\n",
       "4415  http://sharkattackfile.net/spreadsheets/pdf_di...    1952.03.30   \n",
       "5840  http://sharkattackfile.net/spreadsheets/pdf_di...  1878.09.14.R   \n",
       "\n",
       "     Case Number.2 original order Unnamed: 22      Unnamed: 23  \n",
       "4415    1952.03.30         1888.0         NaN           Teramo  \n",
       "5840  1878.09.14.R          463.0         NaN  change filename  \n",
       "\n",
       "[2 rows x 24 columns]"
      ]
     },
     "execution_count": 14,
     "metadata": {},
     "output_type": "execute_result"
    }
   ],
   "source": [
    "df[df['Unnamed: 23'].notna()]"
   ]
  },
  {
   "cell_type": "code",
   "execution_count": 15,
   "id": "serial-disclaimer",
   "metadata": {
    "hidden": true
   },
   "outputs": [],
   "source": [
    "# As the only 3 cells that are not NaN are not relevant, I will delete this two columns\n",
    "df = df.drop(columns = ['Unnamed: 22', 'Unnamed: 23'])"
   ]
  },
  {
   "cell_type": "markdown",
   "id": "careful-tournament",
   "metadata": {
    "hidden": true
   },
   "source": [
    "### References"
   ]
  },
  {
   "cell_type": "code",
   "execution_count": 16,
   "id": "growing-matthew",
   "metadata": {
    "hidden": true
   },
   "outputs": [],
   "source": [
    "# I will not be using any webscrapping technique so I will delete them\n",
    "df = df.drop(columns=['href formula','href'])"
   ]
  },
  {
   "cell_type": "markdown",
   "id": "experienced-disability",
   "metadata": {
    "hidden": true
   },
   "source": [
    "### PDF"
   ]
  },
  {
   "cell_type": "code",
   "execution_count": 17,
   "id": "early-sustainability",
   "metadata": {
    "hidden": true
   },
   "outputs": [],
   "source": [
    "# I will not be using pdf file names so I will delete them\n",
    "df = df.drop(columns=['pdf'])"
   ]
  },
  {
   "cell_type": "markdown",
   "id": "increased-watershed",
   "metadata": {
    "hidden": true
   },
   "source": [
    "### Date"
   ]
  },
  {
   "cell_type": "code",
   "execution_count": 18,
   "id": "jewish-marketing",
   "metadata": {
    "hidden": true
   },
   "outputs": [
    {
     "data": {
      "text/plain": [
       "0"
      ]
     },
     "execution_count": 18,
     "metadata": {},
     "output_type": "execute_result"
    }
   ],
   "source": [
    "df['Date'].isna().sum()"
   ]
  },
  {
   "cell_type": "code",
   "execution_count": 19,
   "id": "individual-intranet",
   "metadata": {
    "hidden": true
   },
   "outputs": [],
   "source": [
    "# Will set months as numbers\n",
    "df['Date'].replace(to_replace='Jan', value='01', inplace=True, regex=True )\n",
    "df['Date'].replace(to_replace='Feb', value='02', inplace=True, regex=True )\n",
    "df['Date'].replace(to_replace='Mar', value='03', inplace=True, regex=True )\n",
    "df['Date'].replace(to_replace='Apr', value='04', inplace=True, regex=True )\n",
    "df['Date'].replace(to_replace='May', value='05', inplace=True, regex=True )\n",
    "df['Date'].replace(to_replace='Jun', value='06', inplace=True, regex=True )\n",
    "df['Date'].replace(to_replace='Jul', value='07', inplace=True, regex=True )\n",
    "df['Date'].replace(to_replace='Aug', value='08', inplace=True, regex=True )\n",
    "df['Date'].replace(to_replace='Se[pt]', value='09', inplace=True, regex=True )\n",
    "df['Date'].replace(to_replace='Oct', value='10', inplace=True, regex=True )\n",
    "df['Date'].replace(to_replace='Nov', value='11', inplace=True, regex=True )\n",
    "df['Date'].replace(to_replace='Dec', value='12', inplace=True, regex=True )"
   ]
  },
  {
   "cell_type": "code",
   "execution_count": 20,
   "id": "lightweight-venice",
   "metadata": {
    "hidden": true
   },
   "outputs": [
    {
     "data": {
      "text/html": [
       "<div>\n",
       "<style scoped>\n",
       "    .dataframe tbody tr th:only-of-type {\n",
       "        vertical-align: middle;\n",
       "    }\n",
       "\n",
       "    .dataframe tbody tr th {\n",
       "        vertical-align: top;\n",
       "    }\n",
       "\n",
       "    .dataframe thead th {\n",
       "        text-align: right;\n",
       "    }\n",
       "</style>\n",
       "<table border=\"1\" class=\"dataframe\">\n",
       "  <thead>\n",
       "    <tr style=\"text-align: right;\">\n",
       "      <th></th>\n",
       "      <th>Date</th>\n",
       "    </tr>\n",
       "  </thead>\n",
       "  <tbody>\n",
       "    <tr>\n",
       "      <th>17</th>\n",
       "      <td>Reported 30-04-2018</td>\n",
       "    </tr>\n",
       "    <tr>\n",
       "      <th>31</th>\n",
       "      <td>Reported 10-04-2018</td>\n",
       "    </tr>\n",
       "    <tr>\n",
       "      <th>59</th>\n",
       "      <td>Reported 25-11-2017</td>\n",
       "    </tr>\n",
       "    <tr>\n",
       "      <th>62</th>\n",
       "      <td>Reported 13-11-2017</td>\n",
       "    </tr>\n",
       "    <tr>\n",
       "      <th>65</th>\n",
       "      <td>Reported 31-10-2017</td>\n",
       "    </tr>\n",
       "    <tr>\n",
       "      <th>...</th>\n",
       "      <td>...</td>\n",
       "    </tr>\n",
       "    <tr>\n",
       "      <th>6294</th>\n",
       "      <td>Before 1906</td>\n",
       "    </tr>\n",
       "    <tr>\n",
       "      <th>6295</th>\n",
       "      <td>Before 1906</td>\n",
       "    </tr>\n",
       "    <tr>\n",
       "      <th>6296</th>\n",
       "      <td>Before 1906</td>\n",
       "    </tr>\n",
       "    <tr>\n",
       "      <th>6297</th>\n",
       "      <td>Before 1903</td>\n",
       "    </tr>\n",
       "    <tr>\n",
       "      <th>6298</th>\n",
       "      <td>Before 1903</td>\n",
       "    </tr>\n",
       "  </tbody>\n",
       "</table>\n",
       "<p>817 rows × 1 columns</p>\n",
       "</div>"
      ],
      "text/plain": [
       "                     Date\n",
       "17    Reported 30-04-2018\n",
       "31    Reported 10-04-2018\n",
       "59    Reported 25-11-2017\n",
       "62    Reported 13-11-2017\n",
       "65    Reported 31-10-2017\n",
       "...                   ...\n",
       "6294          Before 1906\n",
       "6295          Before 1906\n",
       "6296          Before 1906\n",
       "6297          Before 1903\n",
       "6298          Before 1903\n",
       "\n",
       "[817 rows x 1 columns]"
      ]
     },
     "execution_count": 20,
     "metadata": {},
     "output_type": "execute_result"
    }
   ],
   "source": [
    "# Check which columns still contain letters\n",
    "df[df['Date'].str.contains('[a-zA-Z]', regex= True, na=False)][['Date']]"
   ]
  },
  {
   "cell_type": "markdown",
   "id": "addressed-fourth",
   "metadata": {
    "hidden": true
   },
   "source": [
    "As it is a very confusing data, I will just keep years to lately analyse them"
   ]
  },
  {
   "cell_type": "code",
   "execution_count": 21,
   "id": "champion-surgeon",
   "metadata": {
    "hidden": true
   },
   "outputs": [],
   "source": [
    "# replace anything before date format\n",
    "df['Date'].replace(to_replace='.*(?=\\d{2}-\\d{2}-\\d{4})', value=\"\", inplace=True, regex=True)"
   ]
  },
  {
   "cell_type": "code",
   "execution_count": 22,
   "id": "configured-aging",
   "metadata": {
    "hidden": true
   },
   "outputs": [],
   "source": [
    "# replace anything before month and year format\n",
    "df['Date'].replace(to_replace='.*(?=\\d{2}-\\d{4})', value=\"\", inplace=True, regex=True)"
   ]
  },
  {
   "cell_type": "code",
   "execution_count": 23,
   "id": "bronze-longitude",
   "metadata": {
    "hidden": true
   },
   "outputs": [],
   "source": [
    "# replace anything before year format\n",
    "df['Date'].replace(to_replace='.*(?=\\d{4})', value=\"\", inplace=True, regex=True)"
   ]
  },
  {
   "cell_type": "code",
   "execution_count": 24,
   "id": "needed-intervention",
   "metadata": {
    "hidden": true
   },
   "outputs": [],
   "source": [
    "# replace anything after year format\n",
    "df['Date'].replace(to_replace='(?<=\\d{4}).*', value=\"\", inplace=True, regex=True)"
   ]
  },
  {
   "cell_type": "code",
   "execution_count": 25,
   "id": "demographic-profession",
   "metadata": {
    "hidden": true
   },
   "outputs": [],
   "source": [
    "# replace year that has a letter at the beginning\n",
    "df['Date'].replace(to_replace='.*\\d{2}-[a-z]', value=\"1\", inplace=True, regex=True)"
   ]
  },
  {
   "cell_type": "code",
   "execution_count": 26,
   "id": "imported-dispatch",
   "metadata": {
    "hidden": true
   },
   "outputs": [],
   "source": [
    "# replace war for 1943\n",
    "df['Date'].replace(to_replace='.*[Ww]ar.*', value=\"1943\", inplace=True, regex=True)"
   ]
  },
  {
   "cell_type": "code",
   "execution_count": 27,
   "id": "subjective-march",
   "metadata": {
    "hidden": true
   },
   "outputs": [],
   "source": [
    "# replace BC for 0\n",
    "df['Date'].replace(to_replace='.*B\\.C\\..*', value=\"0\", inplace=True, regex=True)"
   ]
  },
  {
   "cell_type": "code",
   "execution_count": 28,
   "id": "classical-dublin",
   "metadata": {
    "hidden": true
   },
   "outputs": [],
   "source": [
    "# replace AD for 500\n",
    "df['Date'].replace(to_replace='.*A\\.D\\..*', value=\"500\", inplace=True, regex=True)"
   ]
  },
  {
   "cell_type": "code",
   "execution_count": 29,
   "id": "integrated-throw",
   "metadata": {
    "hidden": true
   },
   "outputs": [],
   "source": [
    "# replace No Date\n",
    "df['Date'].replace(to_replace='^[Nn]o [Dd]ate$', value=\"Unknown\", inplace=True, regex=True)"
   ]
  },
  {
   "cell_type": "code",
   "execution_count": 30,
   "id": "continental-lucas",
   "metadata": {
    "hidden": true,
    "scrolled": true
   },
   "outputs": [
    {
     "name": "stdout",
     "output_type": "stream",
     "text": [
      "\n",
      "1951 Int64Index([4425], dtype='int64')\n",
      "22-07-144 Int64Index([4644], dtype='int64')\n",
      "Unknown Int64Index([6217, 6218, 6275, 6279, 6280, 6281], dtype='int64')\n",
      "Unknown Int64Index([6217, 6218, 6275, 6279, 6280, 6281], dtype='int64')\n",
      "Unknown Int64Index([6217, 6218, 6275, 6279, 6280, 6281], dtype='int64')\n",
      "Unknown Int64Index([6217, 6218, 6275, 6279, 6280, 6281], dtype='int64')\n",
      "Unknown Int64Index([6217, 6218, 6275, 6279, 6280, 6281], dtype='int64')\n",
      "Unknown Int64Index([6217, 6218, 6275, 6279, 6280, 6281], dtype='int64')\n"
     ]
    }
   ],
   "source": [
    "# to make sure that all years are correct:\n",
    "for i in df['Date']:\n",
    "    if len(i) > 4:\n",
    "        print(i, df[df['Date']==i].index)"
   ]
  },
  {
   "cell_type": "code",
   "execution_count": 31,
   "id": "regular-alliance",
   "metadata": {
    "hidden": true
   },
   "outputs": [],
   "source": [
    "df.loc[4425,'Date'] = '1951'"
   ]
  },
  {
   "cell_type": "code",
   "execution_count": 32,
   "id": "adjusted-violence",
   "metadata": {
    "hidden": true
   },
   "outputs": [],
   "source": [
    "df.loc[4644,'Date'] = '1944'"
   ]
  },
  {
   "cell_type": "code",
   "execution_count": 33,
   "id": "aerial-organ",
   "metadata": {
    "hidden": true
   },
   "outputs": [],
   "source": [
    "df.loc[4328,'Date'] = '1955'"
   ]
  },
  {
   "cell_type": "code",
   "execution_count": 34,
   "id": "homeless-advertiser",
   "metadata": {
    "hidden": true
   },
   "outputs": [
    {
     "data": {
      "text/plain": [
       "6"
      ]
     },
     "execution_count": 34,
     "metadata": {},
     "output_type": "execute_result"
    }
   ],
   "source": [
    "df[df['Date']=='Unknown']['Date'].count()"
   ]
  },
  {
   "cell_type": "code",
   "execution_count": 35,
   "id": "through-honor",
   "metadata": {
    "hidden": true
   },
   "outputs": [],
   "source": [
    "df_year = df[df['Date']!='Unknown']"
   ]
  },
  {
   "cell_type": "code",
   "execution_count": 36,
   "id": "prepared-hayes",
   "metadata": {
    "hidden": true
   },
   "outputs": [
    {
     "name": "stderr",
     "output_type": "stream",
     "text": [
      "<ipython-input-36-71890f3ce89e>:1: SettingWithCopyWarning: \n",
      "A value is trying to be set on a copy of a slice from a DataFrame.\n",
      "Try using .loc[row_indexer,col_indexer] = value instead\n",
      "\n",
      "See the caveats in the documentation: https://pandas.pydata.org/pandas-docs/stable/user_guide/indexing.html#returning-a-view-versus-a-copy\n",
      "  df_year['Date'] = df_year['Date'].apply(lambda x: int(x))\n"
     ]
    }
   ],
   "source": [
    "df_year['Date'] = df_year['Date'].apply(lambda x: int(x))"
   ]
  },
  {
   "cell_type": "code",
   "execution_count": 37,
   "id": "brutal-light",
   "metadata": {
    "hidden": true
   },
   "outputs": [
    {
     "data": {
      "text/plain": [
       "<AxesSubplot:xlabel='Date'>"
      ]
     },
     "execution_count": 37,
     "metadata": {},
     "output_type": "execute_result"
    },
    {
     "data": {
      "image/png": "[encoded data removed]",
      "text/plain": [
       "<Figure size 1080x360 with 1 Axes>"
      ]
     },
     "metadata": {
      "needs_background": "light"
     },
     "output_type": "display_data"
    }
   ],
   "source": [
    "df_year.groupby(by='Date')['original order'].count().plot(figsize=(15, 5))"
   ]
  },
  {
   "cell_type": "code",
   "execution_count": 38,
   "id": "standing-testament",
   "metadata": {
    "hidden": true
   },
   "outputs": [
    {
     "data": {
      "text/plain": [
       "<AxesSubplot:xlabel='Date'>"
      ]
     },
     "execution_count": 38,
     "metadata": {},
     "output_type": "execute_result"
    },
    {
     "data": {
      "image/png": "[encoded data removed]",
      "text/plain": [
       "<Figure size 1080x360 with 1 Axes>"
      ]
     },
     "metadata": {
      "needs_background": "light"
     },
     "output_type": "display_data"
    }
   ],
   "source": [
    "df_year[df_year['Date'] > 1800].groupby(by='Date')['original order'].count().plot(figsize=(15, 5))"
   ]
  },
  {
   "cell_type": "markdown",
   "id": "fifth-production",
   "metadata": {
    "hidden": true
   },
   "source": [
    "There is barely shark attack information prior to 1900. It was a time when data was possibly not stored.\n",
    "\n",
    "There are two relevant peaks:\n",
    "- Around decade of 70s\n",
    "- In the 21st Century\n",
    "\n"
   ]
  },
  {
   "cell_type": "markdown",
   "id": "usual-polyester",
   "metadata": {
    "hidden": true
   },
   "source": [
    "### Case numbers and Years"
   ]
  },
  {
   "cell_type": "code",
   "execution_count": 39,
   "id": "attempted-prerequisite",
   "metadata": {
    "hidden": true
   },
   "outputs": [],
   "source": [
    "# Columns Case Numbers and Year are redundant \n",
    "df = df.drop(columns=['Case Number', 'Case Number.1','Case Number.2', 'Year'])"
   ]
  },
  {
   "cell_type": "code",
   "execution_count": 40,
   "id": "cellular-corruption",
   "metadata": {
    "hidden": true
   },
   "outputs": [],
   "source": [
    "df.rename(columns={'Date':'Year'}, inplace = True)"
   ]
  },
  {
   "cell_type": "markdown",
   "id": "reflected-rouge",
   "metadata": {
    "hidden": true
   },
   "source": [
    "### Type"
   ]
  },
  {
   "cell_type": "code",
   "execution_count": 41,
   "id": "modern-computer",
   "metadata": {
    "hidden": true
   },
   "outputs": [
    {
     "data": {
      "text/plain": [
       "4"
      ]
     },
     "execution_count": 41,
     "metadata": {},
     "output_type": "execute_result"
    }
   ],
   "source": [
    "df['Type'].isna().sum()"
   ]
  },
  {
   "cell_type": "code",
   "execution_count": 42,
   "id": "casual-converter",
   "metadata": {
    "hidden": true
   },
   "outputs": [],
   "source": [
    "df['Type'] = df['Type'].fillna('Unknown')"
   ]
  },
  {
   "cell_type": "code",
   "execution_count": 43,
   "id": "collective-preview",
   "metadata": {
    "hidden": true
   },
   "outputs": [
    {
     "data": {
      "text/plain": [
       "Unprovoked      4595\n",
       "Provoked         574\n",
       "Invalid          547\n",
       "Sea Disaster     239\n",
       "Boating          203\n",
       "Boat             137\n",
       "Unknown            4\n",
       "Questionable       2\n",
       "Boatomg            1\n",
       "Name: Type, dtype: int64"
      ]
     },
     "execution_count": 43,
     "metadata": {},
     "output_type": "execute_result"
    }
   ],
   "source": [
    "df['Type'].value_counts()"
   ]
  },
  {
   "cell_type": "markdown",
   "id": "severe-bearing",
   "metadata": {
    "hidden": true
   },
   "source": [
    "Some of the elements in this list will be analyzed in the column Activities.\n",
    "\\\n",
    "\\\n",
    "I will just set two main groups: everything that is not Provoked will be set as Unprovoked"
   ]
  },
  {
   "cell_type": "code",
   "execution_count": 44,
   "id": "future-verification",
   "metadata": {
    "hidden": true
   },
   "outputs": [],
   "source": [
    "df['Type'] = df['Type'].apply(lambda x: 'Unprokoved' if x != 'Provoked' else x)"
   ]
  },
  {
   "cell_type": "code",
   "execution_count": 45,
   "id": "pharmaceutical-rugby",
   "metadata": {
    "hidden": true
   },
   "outputs": [
    {
     "data": {
      "text/plain": [
       "Unprokoved    5728\n",
       "Provoked       574\n",
       "Name: Type, dtype: int64"
      ]
     },
     "execution_count": 45,
     "metadata": {},
     "output_type": "execute_result"
    }
   ],
   "source": [
    "df['Type'].value_counts()"
   ]
  },
  {
   "cell_type": "code",
   "execution_count": 46,
   "id": "agreed-adobe",
   "metadata": {
    "hidden": true
   },
   "outputs": [],
   "source": [
    "top1_cases = df.groupby('Type')['original order'].count().nlargest(1).sum()"
   ]
  },
  {
   "cell_type": "code",
   "execution_count": 47,
   "id": "coordinate-thesis",
   "metadata": {
    "hidden": true
   },
   "outputs": [],
   "source": [
    "all_cases = df.groupby('Type')['original order'].count().sum()"
   ]
  },
  {
   "cell_type": "code",
   "execution_count": 48,
   "id": "regulated-board",
   "metadata": {
    "hidden": true
   },
   "outputs": [
    {
     "data": {
      "text/plain": [
       "0.09"
      ]
     },
     "execution_count": 48,
     "metadata": {},
     "output_type": "execute_result"
    }
   ],
   "source": [
    "round((all_cases - top1_cases )/ all_cases, 2)"
   ]
  },
  {
   "cell_type": "code",
   "execution_count": 49,
   "id": "incoming-diameter",
   "metadata": {
    "hidden": true
   },
   "outputs": [
    {
     "data": {
      "text/plain": [
       "<AxesSubplot:ylabel='original order'>"
      ]
     },
     "execution_count": 49,
     "metadata": {},
     "output_type": "execute_result"
    },
    {
     "data": {
      "image/png": "[encoded data removed]",
      "text/plain": [
       "<Figure size 432x288 with 1 Axes>"
      ]
     },
     "metadata": {},
     "output_type": "display_data"
    }
   ],
   "source": [
    "df.groupby('Type')['original order'].count().plot(kind='pie')"
   ]
  },
  {
   "cell_type": "markdown",
   "id": "lonely-hospital",
   "metadata": {
    "hidden": true
   },
   "source": [
    "I do not really understand what does the dataset refers when stating that the attack has been Provoked.\\\n",
    "Nonetheless, around 9% of the attacks could be considered as provoked.\\\n",
    "\\\n",
    "I will analyze it together with the activities to better understand it.\n"
   ]
  },
  {
   "cell_type": "markdown",
   "id": "serial-cream",
   "metadata": {
    "hidden": true
   },
   "source": [
    "### Country"
   ]
  },
  {
   "cell_type": "code",
   "execution_count": 50,
   "id": "reflected-advancement",
   "metadata": {
    "hidden": true
   },
   "outputs": [
    {
     "data": {
      "text/plain": [
       "50"
      ]
     },
     "execution_count": 50,
     "metadata": {},
     "output_type": "execute_result"
    }
   ],
   "source": [
    "df['Country'].isna().sum()"
   ]
  },
  {
   "cell_type": "code",
   "execution_count": 51,
   "id": "weekly-construction",
   "metadata": {
    "hidden": true
   },
   "outputs": [],
   "source": [
    "df['Country'] = df['Country'].fillna('Unknown')"
   ]
  },
  {
   "cell_type": "code",
   "execution_count": 52,
   "id": "functioning-deviation",
   "metadata": {
    "hidden": true
   },
   "outputs": [],
   "source": [
    "df['Country'] = df['Country'].apply(lambda x: x.upper())"
   ]
  },
  {
   "cell_type": "code",
   "execution_count": 53,
   "id": "exact-validity",
   "metadata": {
    "hidden": true
   },
   "outputs": [
    {
     "data": {
      "text/html": [
       "<div>\n",
       "<style scoped>\n",
       "    .dataframe tbody tr th:only-of-type {\n",
       "        vertical-align: middle;\n",
       "    }\n",
       "\n",
       "    .dataframe tbody tr th {\n",
       "        vertical-align: top;\n",
       "    }\n",
       "\n",
       "    .dataframe thead th {\n",
       "        text-align: right;\n",
       "    }\n",
       "</style>\n",
       "<table border=\"1\" class=\"dataframe\">\n",
       "  <thead>\n",
       "    <tr style=\"text-align: right;\">\n",
       "      <th></th>\n",
       "      <th>Country</th>\n",
       "    </tr>\n",
       "  </thead>\n",
       "  <tbody>\n",
       "    <tr>\n",
       "      <th>111</th>\n",
       "      <td>ST HELENA, BRITISH OVERSEAS TERRITORY</td>\n",
       "    </tr>\n",
       "    <tr>\n",
       "      <th>152</th>\n",
       "      <td>ST HELENA, BRITISH OVERSEAS TERRITORY</td>\n",
       "    </tr>\n",
       "    <tr>\n",
       "      <th>583</th>\n",
       "      <td>TRINIDAD &amp; TOBAGO</td>\n",
       "    </tr>\n",
       "    <tr>\n",
       "      <th>763</th>\n",
       "      <td>TRINIDAD &amp; TOBAGO</td>\n",
       "    </tr>\n",
       "    <tr>\n",
       "      <th>902</th>\n",
       "      <td>TURKS &amp; CAICOS</td>\n",
       "    </tr>\n",
       "    <tr>\n",
       "      <th>908</th>\n",
       "      <td>TURKS &amp; CAICOS</td>\n",
       "    </tr>\n",
       "    <tr>\n",
       "      <th>1384</th>\n",
       "      <td>TURKS &amp; CAICOS</td>\n",
       "    </tr>\n",
       "    <tr>\n",
       "      <th>1811</th>\n",
       "      <td>TURKS &amp; CAICOS</td>\n",
       "    </tr>\n",
       "    <tr>\n",
       "      <th>1880</th>\n",
       "      <td>TURKS &amp; CAICOS</td>\n",
       "    </tr>\n",
       "    <tr>\n",
       "      <th>2292</th>\n",
       "      <td>EGYPT / ISRAEL</td>\n",
       "    </tr>\n",
       "    <tr>\n",
       "      <th>3957</th>\n",
       "      <td>RED SEA / INDIAN OCEAN</td>\n",
       "    </tr>\n",
       "    <tr>\n",
       "      <th>4140</th>\n",
       "      <td>ANDAMAN / NICOBAR ISLANDAS</td>\n",
       "    </tr>\n",
       "    <tr>\n",
       "      <th>4345</th>\n",
       "      <td>SUDAN?</td>\n",
       "    </tr>\n",
       "    <tr>\n",
       "      <th>4619</th>\n",
       "      <td>IRAN / IRAQ</td>\n",
       "    </tr>\n",
       "    <tr>\n",
       "      <th>4696</th>\n",
       "      <td>SOLOMON ISLANDS / VANUATU</td>\n",
       "    </tr>\n",
       "    <tr>\n",
       "      <th>4827</th>\n",
       "      <td>TRINIDAD &amp; TOBAGO</td>\n",
       "    </tr>\n",
       "    <tr>\n",
       "      <th>4934</th>\n",
       "      <td>ITALY / CROATIA</td>\n",
       "    </tr>\n",
       "    <tr>\n",
       "      <th>5894</th>\n",
       "      <td>INDIAN OCEAN?</td>\n",
       "    </tr>\n",
       "    <tr>\n",
       "      <th>5978</th>\n",
       "      <td>EQUATORIAL GUINEA / CAMEROON</td>\n",
       "    </tr>\n",
       "    <tr>\n",
       "      <th>6170</th>\n",
       "      <td>BETWEEN PORTUGAL &amp; INDIA</td>\n",
       "    </tr>\n",
       "    <tr>\n",
       "      <th>6228</th>\n",
       "      <td>RED SEA?</td>\n",
       "    </tr>\n",
       "    <tr>\n",
       "      <th>6291</th>\n",
       "      <td>ASIA?</td>\n",
       "    </tr>\n",
       "  </tbody>\n",
       "</table>\n",
       "</div>"
      ],
      "text/plain": [
       "                                    Country\n",
       "111   ST HELENA, BRITISH OVERSEAS TERRITORY\n",
       "152   ST HELENA, BRITISH OVERSEAS TERRITORY\n",
       "583                       TRINIDAD & TOBAGO\n",
       "763                       TRINIDAD & TOBAGO\n",
       "902                          TURKS & CAICOS\n",
       "908                          TURKS & CAICOS\n",
       "1384                         TURKS & CAICOS\n",
       "1811                         TURKS & CAICOS\n",
       "1880                         TURKS & CAICOS\n",
       "2292                         EGYPT / ISRAEL\n",
       "3957                 RED SEA / INDIAN OCEAN\n",
       "4140             ANDAMAN / NICOBAR ISLANDAS\n",
       "4345                                 SUDAN?\n",
       "4619                            IRAN / IRAQ\n",
       "4696              SOLOMON ISLANDS / VANUATU\n",
       "4827                      TRINIDAD & TOBAGO\n",
       "4934                        ITALY / CROATIA\n",
       "5894                          INDIAN OCEAN?\n",
       "5978           EQUATORIAL GUINEA / CAMEROON\n",
       "6170               BETWEEN PORTUGAL & INDIA\n",
       "6228                               RED SEA?\n",
       "6291                                  ASIA?"
      ]
     },
     "execution_count": 53,
     "metadata": {},
     "output_type": "execute_result"
    }
   ],
   "source": [
    "# Check if there are any special characters\n",
    "df[df['Country'].str.contains('[&/?,]', regex= True)][['Country']]"
   ]
  },
  {
   "cell_type": "code",
   "execution_count": 54,
   "id": "positive-integrity",
   "metadata": {
    "hidden": true
   },
   "outputs": [],
   "source": [
    "# replace special characters\n",
    "df['Country'].replace(to_replace=',.*|\\s/\\s.*|\\?$|^\\s|\\s$', value=\"\", inplace=True, regex=True)"
   ]
  },
  {
   "cell_type": "code",
   "execution_count": 55,
   "id": "obvious-arlington",
   "metadata": {
    "hidden": true
   },
   "outputs": [],
   "source": [
    "# replace BETWEEN PORTUGAL & INDIA for UNKNOWN\n",
    "df.loc[6170, 'Country'] = 'UNKNOWN'"
   ]
  },
  {
   "cell_type": "code",
   "execution_count": 56,
   "id": "enormous-familiar",
   "metadata": {
    "hidden": true
   },
   "outputs": [
    {
     "name": "stdout",
     "output_type": "stream",
     "text": [
      "ADMIRALTY ISLANDS\n",
      "AFRICA\n",
      "ALGERIA\n",
      "AMERICAN SAMOA\n",
      "ANDAMAN\n",
      "ANDAMAN ISLANDS\n",
      "ANGOLA\n",
      "ANTIGUA\n",
      "ARGENTINA\n",
      "ARUBA\n",
      "ASIA\n",
      "ATLANTIC OCEAN\n",
      "AUSTRALIA\n",
      "AZORES\n",
      "BAHAMAS\n",
      "BAHREIN\n",
      "BANGLADESH\n",
      "BARBADOS\n",
      "BAY OF BENGAL\n",
      "BELIZE\n",
      "BERMUDA\n",
      "BRAZIL\n",
      "BRITISH ISLES\n",
      "BRITISH NEW GUINEA\n",
      "BRITISH VIRGIN ISLANDS\n",
      "BRITISH WEST INDIES\n",
      "BURMA\n",
      "CANADA\n",
      "CAPE VERDE\n",
      "CARIBBEAN SEA\n",
      "CAYMAN ISLANDS\n",
      "CENTRAL PACIFIC\n",
      "CEYLON\n",
      "CEYLON (SRI LANKA)\n",
      "CHILE\n",
      "CHINA\n",
      "COAST OF AFRICA\n",
      "COLUMBIA\n",
      "COMOROS\n",
      "COOK ISLANDS\n",
      "COSTA RICA\n",
      "CRETE\n",
      "CROATIA\n",
      "CUBA\n",
      "CURACAO\n",
      "CYPRUS\n",
      "DIEGO GARCIA\n",
      "DJIBOUTI\n",
      "DOMINICAN REPUBLIC\n",
      "ECUADOR\n",
      "EGYPT\n",
      "EL SALVADOR\n",
      "ENGLAND\n",
      "EQUATORIAL GUINEA\n",
      "FALKLAND ISLANDS\n",
      "FEDERATED STATES OF MICRONESIA\n",
      "FIJI\n",
      "FRANCE\n",
      "FRENCH POLYNESIA\n",
      "GABON\n",
      "GEORGIA\n",
      "GHANA\n",
      "GRAND CAYMAN\n",
      "GREECE\n",
      "GREENLAND\n",
      "GRENADA\n",
      "GUAM\n",
      "GUATEMALA\n",
      "GUINEA\n",
      "GULF OF ADEN\n",
      "GUYANA\n",
      "HAITI\n",
      "HONDURAS\n",
      "HONG KONG\n",
      "ICELAND\n",
      "INDIA\n",
      "INDIAN OCEAN\n",
      "INDONESIA\n",
      "IRAN\n",
      "IRAQ\n",
      "IRELAND\n",
      "ISRAEL\n",
      "ITALY\n",
      "JAMAICA\n",
      "JAPAN\n",
      "JAVA\n",
      "JOHNSTON ISLAND\n",
      "KENYA\n",
      "KIRIBATI\n",
      "KOREA\n",
      "KUWAIT\n",
      "LEBANON\n",
      "LIBERIA\n",
      "LIBYA\n",
      "MADAGASCAR\n",
      "MALAYSIA\n",
      "MALDIVE ISLANDS\n",
      "MALDIVES\n",
      "MALTA\n",
      "MARSHALL ISLANDS\n",
      "MARTINIQUE\n",
      "MAURITIUS\n",
      "MAYOTTE\n",
      "MEDITERRANEAN SEA\n",
      "MEXICO\n",
      "MICRONESIA\n",
      "MID ATLANTIC OCEAN\n",
      "MID-PACIFC OCEAN\n",
      "MONACO\n",
      "MONTENEGRO\n",
      "MOZAMBIQUE\n",
      "NAMIBIA\n",
      "NETHERLANDS ANTILLES\n",
      "NEVIS\n",
      "NEW BRITAIN\n",
      "NEW CALEDONIA\n",
      "NEW GUINEA\n",
      "NEW ZEALAND\n",
      "NICARAGUA\n",
      "NIGERIA\n",
      "NORTH ATLANTIC OCEAN\n",
      "NORTH PACIFIC OCEAN\n",
      "NORTH SEA\n",
      "NORTHERN ARABIAN SEA\n",
      "NORTHERN MARIANA ISLANDS\n",
      "NORWAY\n",
      "OCEAN\n",
      "OKINAWA\n",
      "PACIFIC OCEAN\n",
      "PALAU\n",
      "PALESTINIAN TERRITORIES\n",
      "PANAMA\n",
      "PAPUA NEW GUINEA\n",
      "PARAGUAY\n",
      "PERSIAN GULF\n",
      "PERU\n",
      "PHILIPPINES\n",
      "PORTUGAL\n",
      "PUERTO RICO\n",
      "RED SEA\n",
      "REUNION\n",
      "REUNION ISLAND\n",
      "ROATAN\n",
      "RUSSIA\n",
      "SAMOA\n",
      "SAN DOMINGO\n",
      "SAUDI ARABIA\n",
      "SCOTLAND\n",
      "SENEGAL\n",
      "SEYCHELLES\n",
      "SIERRA LEONE\n",
      "SINGAPORE\n",
      "SLOVENIA\n",
      "SOLOMON ISLANDS\n",
      "SOMALIA\n",
      "SOUTH AFRICA\n",
      "SOUTH ATLANTIC OCEAN\n",
      "SOUTH CHINA SEA\n",
      "SOUTH KOREA\n",
      "SOUTH PACIFIC OCEAN\n",
      "SOUTHWEST PACIFIC OCEAN\n",
      "SPAIN\n",
      "SRI LANKA\n",
      "ST HELENA\n",
      "ST. MAARTIN\n",
      "ST. MARTIN\n",
      "SUDAN\n",
      "SWEDEN\n",
      "SYRIA\n",
      "TAIWAN\n",
      "TANZANIA\n",
      "TASMAN SEA\n",
      "THAILAND\n",
      "THE BALKANS\n",
      "TOBAGO\n",
      "TONGA\n",
      "TRINIDAD & TOBAGO\n",
      "TUNISIA\n",
      "TURKEY\n",
      "TURKS & CAICOS\n",
      "TUVALU\n",
      "UNITED ARAB EMIRATES\n",
      "UNITED ARAB EMIRATES (UAE)\n",
      "UNITED KINGDOM\n",
      "UNKNOWN\n",
      "URUGUAY\n",
      "USA\n",
      "VANUATU\n",
      "VENEZUELA\n",
      "VIETNAM\n",
      "WEST INDIES\n",
      "WESTERN SAMOA\n",
      "YEMEN\n"
     ]
    }
   ],
   "source": [
    "# Check one by one any name that is incorrect\n",
    "for i in pd.DataFrame(df['Country'].unique()).sort_values(by=0)[0]:\n",
    "    print(i)"
   ]
  },
  {
   "cell_type": "code",
   "execution_count": 57,
   "id": "reserved-balance",
   "metadata": {
    "hidden": true
   },
   "outputs": [],
   "source": [
    "df.loc[df[df['Country'].str.contains('CEYLON', regex= True)].index, 'Country'] = 'CEYLON'\n",
    "df.loc[df[df['Country'].str.contains('ANDAMAN', regex= True)].index, 'Country'] = 'ANDAMAN ISLANDS'\n",
    "df.loc[df[df['Country'].str.contains('SAMOA', regex= True)].index, 'Country'] = 'SAMOA'\n",
    "df.loc[df[df['Country'].str.contains('TRINIDAD', regex= True)].index, 'Country'] = 'TOBAGO'\n",
    "df.loc[df[df['Country'].str.contains('UNITED ARAB', regex= True)].index, 'Country'] = 'UAB'\n",
    "df.loc[df[df['Country'].str.contains('ST\\.', regex= True)].index, 'Country'] = 'ST MARTIN'\n",
    "df.loc[df[df['Country'].str.contains('REUNION', regex= True)].index, 'Country'] = 'REUNION ISLANDS'\n",
    "df.loc[df[df['Country'].str.contains('PALEST', regex= True)].index, 'Country'] = 'PALESTINE'\n",
    "df.loc[df[df['Country'].str.contains('PACIF', regex= True)].index, 'Country'] = 'PACIFIC OCEAN'\n",
    "df.loc[df[df['Country'].str.contains('ENGLAND|IRELAND|BRITISH\\sISLES|SCOTLAND', regex= True)].index, 'Country'] = 'UNITED KINGDOM'\n",
    "df.loc[df[df['Country'].str.contains('WEST INDI', regex= True)].index, 'Country'] = 'WEST INDIES'\n",
    "df.loc[df[df['Country'].str.contains('GUINEA', regex= True)].index, 'Country'] = 'GUINEA'\n",
    "df.loc[df[df['Country'].str.contains('MALDIVE', regex= True)].index, 'Country'] = 'MALDIVES'\n",
    "df.loc[df[df['Country'].str.contains('RABIAN', regex= True)].index, 'Country'] = 'ARABIAN SEA'\n",
    "df.loc[df[df['Country'].str.contains('TLANTIC', regex= True)].index, 'Country'] = 'ATLANTIC OCEAN'\n",
    "df.loc[df[df['Country'].str.contains('CRETE', regex= True)].index, 'Country'] = 'GREECE'\n",
    "df.loc[df[df['Country'].str.contains('CHINA SEA', regex= True)].index, 'Country'] = 'CHINA SEA'\n",
    "df.loc[df[df['Country'].str.contains('DIEGO', regex= True)].index, 'Country'] = 'UNKNOWN'"
   ]
  },
  {
   "cell_type": "code",
   "execution_count": 58,
   "id": "introductory-equation",
   "metadata": {
    "hidden": true
   },
   "outputs": [],
   "source": [
    "# Lasts replace to make more items match by eliminating redundants words\n",
    "df['Country'].replace(to_replace='^BRITISH\\s|^NORTHERN*\\s|^COAST OF ', value=\"\", inplace=True, regex=True)"
   ]
  },
  {
   "cell_type": "code",
   "execution_count": 59,
   "id": "pointed-finland",
   "metadata": {
    "hidden": true,
    "scrolled": true
   },
   "outputs": [
    {
     "data": {
      "text/plain": [
       "<AxesSubplot:xlabel='Country'>"
      ]
     },
     "execution_count": 59,
     "metadata": {},
     "output_type": "execute_result"
    },
    {
     "data": {
      "image/png": "[encoded data removed]",
      "text/plain": [
       "<Figure size 1080x360 with 1 Axes>"
      ]
     },
     "metadata": {
      "needs_background": "light"
     },
     "output_type": "display_data"
    }
   ],
   "source": [
    "df.groupby('Country')['original order'].count().sort_values(ascending=False).nlargest(30).plot(kind='bar', figsize=(15, 5))"
   ]
  },
  {
   "cell_type": "code",
   "execution_count": 60,
   "id": "saved-spank",
   "metadata": {
    "hidden": true
   },
   "outputs": [],
   "source": [
    "top1_cases = df.groupby('Country')['original order'].count().nlargest(1).sum()"
   ]
  },
  {
   "cell_type": "code",
   "execution_count": 61,
   "id": "absolute-savage",
   "metadata": {
    "hidden": true
   },
   "outputs": [],
   "source": [
    "top3_cases = df.groupby('Country')['original order'].count().nlargest(3).sum()"
   ]
  },
  {
   "cell_type": "code",
   "execution_count": 62,
   "id": "compliant-rotation",
   "metadata": {
    "hidden": true
   },
   "outputs": [],
   "source": [
    "all_cases = df.groupby('Country')['original order'].count().sum()"
   ]
  },
  {
   "cell_type": "code",
   "execution_count": 63,
   "id": "frank-terrace",
   "metadata": {
    "hidden": true
   },
   "outputs": [
    {
     "data": {
      "text/plain": [
       "0.35"
      ]
     },
     "execution_count": 63,
     "metadata": {},
     "output_type": "execute_result"
    }
   ],
   "source": [
    "round(top1_cases / all_cases, 2)"
   ]
  },
  {
   "cell_type": "code",
   "execution_count": 64,
   "id": "grave-serbia",
   "metadata": {
    "hidden": true
   },
   "outputs": [
    {
     "data": {
      "text/plain": [
       "0.66"
      ]
     },
     "execution_count": 64,
     "metadata": {},
     "output_type": "execute_result"
    }
   ],
   "source": [
    "round(top3_cases / all_cases, 2)"
   ]
  },
  {
   "cell_type": "markdown",
   "id": "superior-mediterranean",
   "metadata": {
    "hidden": true
   },
   "source": [
    "There are 3 main countries in which a shark attack occurs. Together they represent the 66%, and even country number one, USA, standing alone represents a 35%.\\\n",
    "\\\n",
    "We will match it with fatal accidents in order to see which would be the most dangerous"
   ]
  },
  {
   "cell_type": "markdown",
   "id": "correct-muscle",
   "metadata": {
    "hidden": true
   },
   "source": [
    "### Area"
   ]
  },
  {
   "cell_type": "code",
   "execution_count": 65,
   "id": "convinced-boxing",
   "metadata": {
    "hidden": true
   },
   "outputs": [
    {
     "data": {
      "text/plain": [
       "455"
      ]
     },
     "execution_count": 65,
     "metadata": {},
     "output_type": "execute_result"
    }
   ],
   "source": [
    "df['Area'].isna().sum()"
   ]
  },
  {
   "cell_type": "code",
   "execution_count": 66,
   "id": "vanilla-aquarium",
   "metadata": {
    "hidden": true
   },
   "outputs": [
    {
     "data": {
      "text/plain": [
       "Florida                    1037\n",
       "New South Wales             486\n",
       "Queensland                  311\n",
       "Hawaii                      298\n",
       "California                  290\n",
       "                           ... \n",
       "Between Somalia & Yemen       1\n",
       "Bardestrand                   1\n",
       "Gran Canaria                  1\n",
       "Ho Ha Wan Marine Park         1\n",
       "Syracuse                      1\n",
       "Name: Area, Length: 825, dtype: int64"
      ]
     },
     "execution_count": 66,
     "metadata": {},
     "output_type": "execute_result"
    }
   ],
   "source": [
    "df['Area'].value_counts()"
   ]
  },
  {
   "cell_type": "code",
   "execution_count": 67,
   "id": "scheduled-wonder",
   "metadata": {
    "hidden": true
   },
   "outputs": [],
   "source": [
    "# There are 825 different areas, too much information and not relevant as I will use the Country\n",
    "df = df.drop(columns=['Area'])"
   ]
  },
  {
   "cell_type": "markdown",
   "id": "quiet-subcommittee",
   "metadata": {
    "hidden": true
   },
   "source": [
    "### Location"
   ]
  },
  {
   "cell_type": "code",
   "execution_count": 68,
   "id": "precious-amateur",
   "metadata": {
    "hidden": true
   },
   "outputs": [
    {
     "data": {
      "text/plain": [
       "540"
      ]
     },
     "execution_count": 68,
     "metadata": {},
     "output_type": "execute_result"
    }
   ],
   "source": [
    "df['Location'].isna().sum()"
   ]
  },
  {
   "cell_type": "code",
   "execution_count": 69,
   "id": "cloudy-wages",
   "metadata": {
    "hidden": true
   },
   "outputs": [
    {
     "data": {
      "text/plain": [
       "New Smyrna Beach, Volusia County                    163\n",
       "Daytona Beach, Volusia County                        30\n",
       "Ponce Inlet, Volusia County                          20\n",
       "Melbourne Beach, Brevard County                      18\n",
       "Myrtle Beach, Horry County                           17\n",
       "                                                   ... \n",
       "Oakura Beach, Taranaki                                1\n",
       "Karitane Beach                                        1\n",
       "Pision Reef, Truk                                     1\n",
       "Off Franklin Island between Streaky Bay & Ceduna      1\n",
       "Cheviot Beach, Portsea, Port Phillip Bay              1\n",
       "Name: Location, Length: 4108, dtype: int64"
      ]
     },
     "execution_count": 69,
     "metadata": {},
     "output_type": "execute_result"
    }
   ],
   "source": [
    "df['Location'].value_counts()"
   ]
  },
  {
   "cell_type": "code",
   "execution_count": 70,
   "id": "fiscal-positive",
   "metadata": {
    "hidden": true
   },
   "outputs": [],
   "source": [
    "# There are 4108 different areas, too much information and not relevant as I will use the Country\n",
    "df = df.drop(columns=['Location'])"
   ]
  },
  {
   "cell_type": "markdown",
   "id": "duplicate-martin",
   "metadata": {
    "hidden": true
   },
   "source": [
    "### Activity"
   ]
  },
  {
   "cell_type": "code",
   "execution_count": 71,
   "id": "brave-biotechnology",
   "metadata": {
    "hidden": true
   },
   "outputs": [
    {
     "data": {
      "text/plain": [
       "544"
      ]
     },
     "execution_count": 71,
     "metadata": {},
     "output_type": "execute_result"
    }
   ],
   "source": [
    "df['Activity'].isna().sum()"
   ]
  },
  {
   "cell_type": "code",
   "execution_count": 72,
   "id": "reserved-flood",
   "metadata": {
    "hidden": true
   },
   "outputs": [],
   "source": [
    "df['Activity'] = df['Activity'].fillna('Unknown')"
   ]
  },
  {
   "cell_type": "code",
   "execution_count": 73,
   "id": "revised-vampire",
   "metadata": {
    "hidden": true
   },
   "outputs": [],
   "source": [
    "df['Activity'] = df['Activity'].astype('str')"
   ]
  },
  {
   "cell_type": "code",
   "execution_count": 74,
   "id": "boxed-lottery",
   "metadata": {
    "hidden": true
   },
   "outputs": [],
   "source": [
    "df['Activity'] = df['Activity'].apply(lambda x: x.upper())"
   ]
  },
  {
   "cell_type": "markdown",
   "id": "subject-milwaukee",
   "metadata": {
    "hidden": true
   },
   "source": [
    "I will try to group main activities and keep a list of the most common ones"
   ]
  },
  {
   "cell_type": "code",
   "execution_count": 75,
   "id": "western-assist",
   "metadata": {
    "hidden": true
   },
   "outputs": [],
   "source": [
    "df.loc[df[df['Activity'].str.contains('DIV\\w*|SNORKEL\\w*', regex= True)].index, 'Activity'] = 'DIVING'\n",
    "df.loc[df[df['Activity'].str.contains('ROW\\w*|KAYAK\\w*|CANOE\\w*|SCULL\\w*|PADDLING', regex= True)].index, 'Activity'] = 'ROWING'\n",
    "df.loc[df[df['Activity'].str.contains('SURF\\w*|BOARDING|SKI\\w*', regex= True)].index, 'Activity'] = 'SURFING'\n",
    "df.loc[df[df['Activity'].str.contains('FEED\\w*', regex= True)].index, 'Activity'] = 'FEEDING'\n",
    "df.loc[df[df['Activity'].str.contains('FILM\\w*|PHOTO\\w*', regex= True)].index, 'Activity'] = 'FILMING'\n",
    "df.loc[df[df['Activity'].str.contains('TREADING|SPLASHING|WADING|SWIM\\w*|BATH\\w*|FLOAT\\w*|STANDING|PLAY\\w*|WALK\\w*', regex= True)].index, 'Activity'] = 'SWIMING'\n",
    "df.loc[df[df['Activity'].str.contains('SURVIV\\w*|WRECK|PLANE|RUN DOWN|DISASTER|AIRLINE|TORPEDOE|SUBMARINE|AIRCRAFT|TSUNAMI|S[IA]NK', regex= True)].index, 'Activity'] = 'DISASTER'\n",
    "df.loc[df[df['Activity'].str.contains('CRUIS\\w*|SAIL\\w*|BOAT\\w*|FELL|SHIP\\w*|CAPSIZED|OVERBOARD|SHORE', regex= True)].index, 'Activity'] = 'BOATING'\n",
    "df.loc[df[df['Activity'].str.contains('CLAM\\w*|CRABB\\w*|FISH\\w*|CATCH\\w*|NET\\w*|HUNT\\w*', regex= True)].index, 'Activity'] = 'FISHING'"
   ]
  },
  {
   "cell_type": "code",
   "execution_count": 76,
   "id": "abstract-dress",
   "metadata": {
    "hidden": true
   },
   "outputs": [],
   "source": [
    "# Set all activities with count < 10 as not relevant\n",
    "df['Activity'] = df['Activity'].apply(lambda x: 'NOT RELEVANT' if list(df['Activity']).count(x) < 10 else x)"
   ]
  },
  {
   "cell_type": "code",
   "execution_count": 77,
   "id": "elder-sight",
   "metadata": {
    "hidden": true,
    "scrolled": true
   },
   "outputs": [
    {
     "data": {
      "text/plain": [
       "<AxesSubplot:xlabel='Activity'>"
      ]
     },
     "execution_count": 77,
     "metadata": {},
     "output_type": "execute_result"
    },
    {
     "data": {
      "image/png": "[encoded data removed]",
      "text/plain": [
       "<Figure size 1080x360 with 1 Axes>"
      ]
     },
     "metadata": {
      "needs_background": "light"
     },
     "output_type": "display_data"
    }
   ],
   "source": [
    "df.groupby('Activity')['original order'].count().sort_values(ascending=False).nlargest(30).plot(kind='bar', figsize=(15, 5))"
   ]
  },
  {
   "cell_type": "markdown",
   "id": "remarkable-punishment",
   "metadata": {
    "hidden": true
   },
   "source": [
    "There are 4 main activities that people who suffer attacks receive:\n",
    "- 1. Swimming\n",
    "- 2. Surfing\n",
    "- 3. Fishing\n",
    "- 4. Diving\n"
   ]
  },
  {
   "cell_type": "markdown",
   "id": "close-representation",
   "metadata": {
    "hidden": true
   },
   "source": [
    "### Name"
   ]
  },
  {
   "cell_type": "code",
   "execution_count": 78,
   "id": "median-faith",
   "metadata": {
    "hidden": true
   },
   "outputs": [],
   "source": [
    "# I will not be using names so I will delete them\n",
    "df = df.drop(columns=['Name'])"
   ]
  },
  {
   "cell_type": "markdown",
   "id": "fitted-duplicate",
   "metadata": {
    "hidden": true
   },
   "source": [
    "### Sex"
   ]
  },
  {
   "cell_type": "code",
   "execution_count": 79,
   "id": "pediatric-concord",
   "metadata": {
    "hidden": true
   },
   "outputs": [],
   "source": [
    "# Sex columns has a space at the end, I will change column name\n",
    "df.rename(columns={'Sex ':'Sex'}, inplace = True)"
   ]
  },
  {
   "cell_type": "code",
   "execution_count": 80,
   "id": "peaceful-lindsay",
   "metadata": {
    "hidden": true
   },
   "outputs": [
    {
     "data": {
      "text/plain": [
       "565"
      ]
     },
     "execution_count": 80,
     "metadata": {},
     "output_type": "execute_result"
    }
   ],
   "source": [
    "df['Sex'].isna().sum()"
   ]
  },
  {
   "cell_type": "code",
   "execution_count": 81,
   "id": "russian-stationery",
   "metadata": {
    "hidden": true
   },
   "outputs": [],
   "source": [
    "df['Sex'] = df['Sex'].fillna('UNKNOWN')"
   ]
  },
  {
   "cell_type": "code",
   "execution_count": 82,
   "id": "warming-johns",
   "metadata": {
    "hidden": true
   },
   "outputs": [
    {
     "data": {
      "text/html": [
       "<div>\n",
       "<style scoped>\n",
       "    .dataframe tbody tr th:only-of-type {\n",
       "        vertical-align: middle;\n",
       "    }\n",
       "\n",
       "    .dataframe tbody tr th {\n",
       "        vertical-align: top;\n",
       "    }\n",
       "\n",
       "    .dataframe thead th {\n",
       "        text-align: right;\n",
       "    }\n",
       "</style>\n",
       "<table border=\"1\" class=\"dataframe\">\n",
       "  <thead>\n",
       "    <tr style=\"text-align: right;\">\n",
       "      <th></th>\n",
       "      <th>Sex</th>\n",
       "    </tr>\n",
       "  </thead>\n",
       "  <tbody>\n",
       "    <tr>\n",
       "      <th>563</th>\n",
       "      <td>M</td>\n",
       "    </tr>\n",
       "    <tr>\n",
       "      <th>1587</th>\n",
       "      <td>M</td>\n",
       "    </tr>\n",
       "    <tr>\n",
       "      <th>5437</th>\n",
       "      <td>.</td>\n",
       "    </tr>\n",
       "  </tbody>\n",
       "</table>\n",
       "</div>"
      ],
      "text/plain": [
       "     Sex\n",
       "563   M \n",
       "1587  M \n",
       "5437   ."
      ]
     },
     "execution_count": 82,
     "metadata": {},
     "output_type": "execute_result"
    }
   ],
   "source": [
    "df[df['Sex'].str.contains('\\W', regex= True)][['Sex']]"
   ]
  },
  {
   "cell_type": "code",
   "execution_count": 83,
   "id": "endless-voltage",
   "metadata": {
    "hidden": true
   },
   "outputs": [],
   "source": [
    "df.loc[[563,1587], 'Sex'] = 'M'"
   ]
  },
  {
   "cell_type": "code",
   "execution_count": 84,
   "id": "minus-absolute",
   "metadata": {
    "hidden": true
   },
   "outputs": [],
   "source": [
    "df.loc[5437, 'Sex'] = 'UNKNOWN'"
   ]
  },
  {
   "cell_type": "code",
   "execution_count": 85,
   "id": "southeast-neutral",
   "metadata": {
    "hidden": true
   },
   "outputs": [
    {
     "data": {
      "text/plain": [
       "Sex    \n",
       "UNKNOWN    566\n",
       "N            2\n",
       "lli          1\n",
       "dtype: int64"
      ]
     },
     "execution_count": 85,
     "metadata": {},
     "output_type": "execute_result"
    }
   ],
   "source": [
    "df[df['Sex'].str.contains('[^FM]', regex= True)][['Sex']].value_counts()"
   ]
  },
  {
   "cell_type": "code",
   "execution_count": 86,
   "id": "fallen-atlanta",
   "metadata": {
    "hidden": true
   },
   "outputs": [
    {
     "name": "stderr",
     "output_type": "stream",
     "text": [
      "<ipython-input-86-209a767bb4b1>:1: UserWarning: Boolean Series key will be reindexed to match DataFrame index.\n",
      "  df[df['Sex'].str.contains('[^FM]', regex= True)][['Sex']][df['Sex'] != 'UNKNOWN']\n"
     ]
    },
    {
     "data": {
      "text/html": [
       "<div>\n",
       "<style scoped>\n",
       "    .dataframe tbody tr th:only-of-type {\n",
       "        vertical-align: middle;\n",
       "    }\n",
       "\n",
       "    .dataframe tbody tr th {\n",
       "        vertical-align: top;\n",
       "    }\n",
       "\n",
       "    .dataframe thead th {\n",
       "        text-align: right;\n",
       "    }\n",
       "</style>\n",
       "<table border=\"1\" class=\"dataframe\">\n",
       "  <thead>\n",
       "    <tr style=\"text-align: right;\">\n",
       "      <th></th>\n",
       "      <th>Sex</th>\n",
       "    </tr>\n",
       "  </thead>\n",
       "  <tbody>\n",
       "    <tr>\n",
       "      <th>1624</th>\n",
       "      <td>lli</td>\n",
       "    </tr>\n",
       "    <tr>\n",
       "      <th>4938</th>\n",
       "      <td>N</td>\n",
       "    </tr>\n",
       "    <tr>\n",
       "      <th>6131</th>\n",
       "      <td>N</td>\n",
       "    </tr>\n",
       "  </tbody>\n",
       "</table>\n",
       "</div>"
      ],
      "text/plain": [
       "      Sex\n",
       "1624  lli\n",
       "4938    N\n",
       "6131    N"
      ]
     },
     "execution_count": 86,
     "metadata": {},
     "output_type": "execute_result"
    }
   ],
   "source": [
    "df[df['Sex'].str.contains('[^FM]', regex= True)][['Sex']][df['Sex'] != 'UNKNOWN']"
   ]
  },
  {
   "cell_type": "code",
   "execution_count": 87,
   "id": "fantastic-petite",
   "metadata": {
    "hidden": true
   },
   "outputs": [],
   "source": [
    "df.loc[[1624,4938, 6131], 'Sex'] = 'UNKNOWN'"
   ]
  },
  {
   "cell_type": "code",
   "execution_count": 88,
   "id": "three-thesaurus",
   "metadata": {
    "hidden": true
   },
   "outputs": [
    {
     "data": {
      "text/plain": [
       "M          5096\n",
       "F           637\n",
       "UNKNOWN     569\n",
       "Name: Sex, dtype: int64"
      ]
     },
     "execution_count": 88,
     "metadata": {},
     "output_type": "execute_result"
    }
   ],
   "source": [
    "df['Sex'].value_counts()"
   ]
  },
  {
   "cell_type": "code",
   "execution_count": 89,
   "id": "impressed-gentleman",
   "metadata": {
    "hidden": true
   },
   "outputs": [],
   "source": [
    "df_sex = df[df['Sex']!= 'UNKNOWN']"
   ]
  },
  {
   "cell_type": "code",
   "execution_count": 90,
   "id": "overhead-survival",
   "metadata": {
    "hidden": true
   },
   "outputs": [
    {
     "data": {
      "text/plain": [
       "M    5096\n",
       "F     637\n",
       "Name: Sex, dtype: int64"
      ]
     },
     "execution_count": 90,
     "metadata": {},
     "output_type": "execute_result"
    }
   ],
   "source": [
    "df_sex['Sex'].value_counts()"
   ]
  },
  {
   "cell_type": "code",
   "execution_count": 91,
   "id": "appreciated-london",
   "metadata": {
    "hidden": true
   },
   "outputs": [],
   "source": [
    "male_cases = df_sex['Sex'].value_counts().nlargest(1).sum()"
   ]
  },
  {
   "cell_type": "code",
   "execution_count": 92,
   "id": "round-grace",
   "metadata": {
    "hidden": true
   },
   "outputs": [],
   "source": [
    "all_cases = df_sex['Sex'].value_counts().sum()"
   ]
  },
  {
   "cell_type": "code",
   "execution_count": 93,
   "id": "indirect-ceremony",
   "metadata": {
    "hidden": true
   },
   "outputs": [
    {
     "data": {
      "text/plain": [
       "0.89"
      ]
     },
     "execution_count": 93,
     "metadata": {},
     "output_type": "execute_result"
    }
   ],
   "source": [
    "round(male_cases / all_cases, 2)"
   ]
  },
  {
   "cell_type": "code",
   "execution_count": 94,
   "id": "emotional-tourism",
   "metadata": {
    "hidden": true,
    "scrolled": true
   },
   "outputs": [
    {
     "data": {
      "text/plain": [
       "<AxesSubplot:ylabel='original order'>"
      ]
     },
     "execution_count": 94,
     "metadata": {},
     "output_type": "execute_result"
    },
    {
     "data": {
      "image/png": "[encoded data removed]",
      "text/plain": [
       "<Figure size 432x288 with 1 Axes>"
      ]
     },
     "metadata": {},
     "output_type": "display_data"
    }
   ],
   "source": [
    "df_sex.groupby('Sex')['original order'].count().plot(kind='pie')"
   ]
  },
  {
   "cell_type": "markdown",
   "id": "limiting-thickness",
   "metadata": {
    "hidden": true
   },
   "source": [
    "89% of the KNOWN cases is a male who suffers a shark attack.\\\n",
    "\\\n",
    "Could be interesting to analyze what is the average age depending on the gender."
   ]
  },
  {
   "cell_type": "markdown",
   "id": "linear-talent",
   "metadata": {
    "hidden": true
   },
   "source": [
    "### Age"
   ]
  },
  {
   "cell_type": "code",
   "execution_count": 95,
   "id": "respected-glance",
   "metadata": {
    "hidden": true
   },
   "outputs": [
    {
     "data": {
      "text/plain": [
       "2831"
      ]
     },
     "execution_count": 95,
     "metadata": {},
     "output_type": "execute_result"
    }
   ],
   "source": [
    "df['Age'].isna().sum()"
   ]
  },
  {
   "cell_type": "code",
   "execution_count": 96,
   "id": "initial-timothy",
   "metadata": {
    "hidden": true
   },
   "outputs": [],
   "source": [
    "df['Age'] = df['Age'] = df['Age'].fillna('UNKNOWN')"
   ]
  },
  {
   "cell_type": "code",
   "execution_count": 97,
   "id": "challenging-crash",
   "metadata": {
    "hidden": true,
    "scrolled": true
   },
   "outputs": [
    {
     "data": {
      "text/plain": [
       "UNKNOWN                    2831\n",
       "17                          154\n",
       "18                          150\n",
       "19                          142\n",
       "20                          141\n",
       "                           ... \n",
       "72                            1\n",
       "20                            1\n",
       "17 & 35                       1\n",
       "33 or 37                      1\n",
       "37, 67, 35, 27,  ? & 27       1\n",
       "Name: Age, Length: 158, dtype: int64"
      ]
     },
     "execution_count": 97,
     "metadata": {},
     "output_type": "execute_result"
    }
   ],
   "source": [
    "df['Age'].value_counts()"
   ]
  },
  {
   "cell_type": "code",
   "execution_count": 98,
   "id": "hearing-captain",
   "metadata": {
    "hidden": true
   },
   "outputs": [
    {
     "data": {
      "text/plain": [
       "UNKNOWN                    2831\n",
       "Teen                          9\n",
       "30s                           7\n",
       "20s                           7\n",
       "teen                          5\n",
       "                           ... \n",
       "13 or 18                      1\n",
       " 30                           1\n",
       "21 & ?                        1\n",
       "Both 11                       1\n",
       "37, 67, 35, 27,  ? & 27       1\n",
       "Name: Age, Length: 78, dtype: int64"
      ]
     },
     "execution_count": 98,
     "metadata": {},
     "output_type": "execute_result"
    }
   ],
   "source": [
    "df[df['Age'].str.contains('\\D', regex= True)]['Age'].value_counts()"
   ]
  },
  {
   "cell_type": "code",
   "execution_count": 99,
   "id": "furnished-correlation",
   "metadata": {
    "hidden": true
   },
   "outputs": [],
   "source": [
    "df['Age'].replace(to_replace=\"[Tt]een\\w?\", value=\"15\", inplace=True, regex=True)\n",
    "df['Age'].replace(to_replace=\"^\\D*$|.*�\", value=\"UNKNOWN\", inplace=True, regex=True)\n",
    "df['Age'].replace(to_replace=\".*months\", value=\"1\", inplace=True, regex=True)\n",
    "df['Age'].replace(to_replace=\"^\\s\", value=\"\", inplace=True, regex=True)\n",
    "df['Age'].replace(to_replace=\"(?<=\\d{2})\\D*$\", value=\"\", inplace=True, regex=True)\n",
    "df['Age'].replace(to_replace=\"^\\D*(?=\\d{2})\", value=\"\", inplace=True, regex=True)\n",
    "df['Age'].replace(to_replace=\"\\d{,2}\\s+\\D{,2}\\s+(?=\\d{,2})\", value=\"\", inplace=True, regex=True)\n",
    "df['Age'].replace(to_replace=\",.*\", value=\"\", inplace=True, regex=True)\n"
   ]
  },
  {
   "cell_type": "code",
   "execution_count": 100,
   "id": "irish-cornell",
   "metadata": {
    "hidden": true
   },
   "outputs": [],
   "source": [
    "df_age = df[df['Age']!= 'UNKNOWN']"
   ]
  },
  {
   "cell_type": "code",
   "execution_count": 101,
   "id": "reserved-measurement",
   "metadata": {
    "hidden": true
   },
   "outputs": [
    {
     "name": "stderr",
     "output_type": "stream",
     "text": [
      "<ipython-input-101-70763628776f>:1: SettingWithCopyWarning: \n",
      "A value is trying to be set on a copy of a slice from a DataFrame.\n",
      "Try using .loc[row_indexer,col_indexer] = value instead\n",
      "\n",
      "See the caveats in the documentation: https://pandas.pydata.org/pandas-docs/stable/user_guide/indexing.html#returning-a-view-versus-a-copy\n",
      "  df_age['Age'] = df_age['Age'].apply(lambda x: int(x))\n"
     ]
    }
   ],
   "source": [
    "df_age['Age'] = df_age['Age'].apply(lambda x: int(x))"
   ]
  },
  {
   "cell_type": "code",
   "execution_count": 102,
   "id": "light-damage",
   "metadata": {
    "hidden": true
   },
   "outputs": [
    {
     "data": {
      "text/plain": [
       "445      1\n",
       "3546     1\n",
       "6019     1\n",
       "4213     1\n",
       "3789     1\n",
       "        ..\n",
       "4428    81\n",
       "130     82\n",
       "1798    84\n",
       "922     86\n",
       "2846    87\n",
       "Name: Age, Length: 3454, dtype: int64"
      ]
     },
     "execution_count": 102,
     "metadata": {},
     "output_type": "execute_result"
    }
   ],
   "source": [
    "df_age['Age'].sort_values()"
   ]
  },
  {
   "cell_type": "markdown",
   "id": "proved-benchmark",
   "metadata": {
    "hidden": true
   },
   "source": [
    "### Injury"
   ]
  },
  {
   "cell_type": "code",
   "execution_count": 103,
   "id": "pending-evidence",
   "metadata": {
    "hidden": true
   },
   "outputs": [
    {
     "data": {
      "text/plain": [
       "28"
      ]
     },
     "execution_count": 103,
     "metadata": {},
     "output_type": "execute_result"
    }
   ],
   "source": [
    "df['Injury'].isna().sum()"
   ]
  },
  {
   "cell_type": "code",
   "execution_count": 104,
   "id": "obvious-republican",
   "metadata": {
    "hidden": true
   },
   "outputs": [],
   "source": [
    "df['Injury'] = df['Injury'].fillna('Unknown')"
   ]
  },
  {
   "cell_type": "code",
   "execution_count": 105,
   "id": "helpful-treasury",
   "metadata": {
    "hidden": true
   },
   "outputs": [],
   "source": [
    "df['Injury'] = df['Injury'].astype('str')"
   ]
  },
  {
   "cell_type": "code",
   "execution_count": 106,
   "id": "spatial-tanzania",
   "metadata": {
    "hidden": true
   },
   "outputs": [],
   "source": [
    "df['Injury'] = df['Injury'].apply(lambda x: x.upper())"
   ]
  },
  {
   "cell_type": "code",
   "execution_count": 107,
   "id": "digital-burning",
   "metadata": {
    "hidden": true
   },
   "outputs": [
    {
     "data": {
      "text/plain": [
       "FATAL                                                   804\n",
       "SURVIVED                                                 97\n",
       "FOOT BITTEN                                              87\n",
       "NO INJURY                                                86\n",
       "LEG BITTEN                                               72\n",
       "                                                       ... \n",
       "NO INJURY TO DIVER, SHARK BIT HIS VIDEO CAMERA            1\n",
       "LEFT KNEE NIPPED BY CAPTIVE SHARK PROVOKED INCIDENT       1\n",
       "NO INJURY, MOTHER LIFTED HIM FROM THE WATER               1\n",
       "FATAL, PRESUMED TAKEN BY A SHARK, BODY NOT RECOVERED      1\n",
       "THIGH INJURED                                             1\n",
       "Name: Injury, Length: 3719, dtype: int64"
      ]
     },
     "execution_count": 107,
     "metadata": {},
     "output_type": "execute_result"
    }
   ],
   "source": [
    "df['Injury'].value_counts()"
   ]
  },
  {
   "cell_type": "code",
   "execution_count": 108,
   "id": "respective-laser",
   "metadata": {
    "hidden": true
   },
   "outputs": [],
   "source": [
    "# There are 4108 different areas, too much information and not relevant as I will use the Fatal\n",
    "df = df.drop(columns=['Injury'])"
   ]
  },
  {
   "cell_type": "markdown",
   "id": "mental-consequence",
   "metadata": {
    "hidden": true
   },
   "source": [
    "### Fatal"
   ]
  },
  {
   "cell_type": "code",
   "execution_count": 109,
   "id": "incident-community",
   "metadata": {
    "hidden": true
   },
   "outputs": [],
   "source": [
    "# Fatal columns has a (Y/N) in the name, I will change column name\n",
    "df.rename(columns={'Fatal (Y/N)':'Fatal'}, inplace = True)"
   ]
  },
  {
   "cell_type": "code",
   "execution_count": 110,
   "id": "unusual-association",
   "metadata": {
    "hidden": true
   },
   "outputs": [
    {
     "data": {
      "text/plain": [
       "539"
      ]
     },
     "execution_count": 110,
     "metadata": {},
     "output_type": "execute_result"
    }
   ],
   "source": [
    "df['Fatal'].isna().sum()"
   ]
  },
  {
   "cell_type": "code",
   "execution_count": 111,
   "id": "associate-calculator",
   "metadata": {
    "hidden": true
   },
   "outputs": [],
   "source": [
    "df['Fatal'] = df['Fatal'].fillna('UNKNOWN')"
   ]
  },
  {
   "cell_type": "code",
   "execution_count": 112,
   "id": "lined-penalty",
   "metadata": {
    "hidden": true
   },
   "outputs": [],
   "source": [
    "df['Fatal'] = df['Fatal'].apply(lambda x: x.upper())"
   ]
  },
  {
   "cell_type": "code",
   "execution_count": 113,
   "id": "sticky-default",
   "metadata": {
    "hidden": true
   },
   "outputs": [],
   "source": [
    "df['Fatal'].replace(to_replace='^\\s|\\s$', value='', inplace=True, regex=True)"
   ]
  },
  {
   "cell_type": "code",
   "execution_count": 114,
   "id": "opened-consent",
   "metadata": {
    "hidden": true
   },
   "outputs": [
    {
     "data": {
      "text/plain": [
       "N          4301\n",
       "Y          1389\n",
       "UNKNOWN     610\n",
       "M             1\n",
       "2017          1\n",
       "Name: Fatal, dtype: int64"
      ]
     },
     "execution_count": 114,
     "metadata": {},
     "output_type": "execute_result"
    }
   ],
   "source": [
    "df['Fatal'].value_counts()"
   ]
  },
  {
   "cell_type": "code",
   "execution_count": 115,
   "id": "accurate-iceland",
   "metadata": {
    "hidden": true
   },
   "outputs": [],
   "source": [
    "df.loc[df[df['Fatal'] == '2017'].index,'Fatal'] = 'UNKNOWN'\n",
    "df.loc[df[df['Fatal'] == 'M'].index,'Fatal'] = 'UNKNOWN'"
   ]
  },
  {
   "cell_type": "code",
   "execution_count": 116,
   "id": "cutting-camcorder",
   "metadata": {
    "hidden": true
   },
   "outputs": [],
   "source": [
    "df_fatal = df[df['Fatal']!= 'UNKNOWN']"
   ]
  },
  {
   "cell_type": "code",
   "execution_count": 117,
   "id": "complimentary-amsterdam",
   "metadata": {
    "hidden": true
   },
   "outputs": [
    {
     "data": {
      "text/plain": [
       "N    4301\n",
       "Y    1389\n",
       "Name: Fatal, dtype: int64"
      ]
     },
     "execution_count": 117,
     "metadata": {},
     "output_type": "execute_result"
    }
   ],
   "source": [
    "df_fatal['Fatal'].value_counts()"
   ]
  },
  {
   "cell_type": "code",
   "execution_count": 118,
   "id": "assured-boutique",
   "metadata": {
    "hidden": true
   },
   "outputs": [],
   "source": [
    "fatal_cases = df_fatal['Fatal'].value_counts().nlargest(1).sum()"
   ]
  },
  {
   "cell_type": "code",
   "execution_count": 119,
   "id": "packed-syndication",
   "metadata": {
    "hidden": true
   },
   "outputs": [],
   "source": [
    "all_cases = df_fatal['Fatal'].value_counts().sum()"
   ]
  },
  {
   "cell_type": "code",
   "execution_count": 120,
   "id": "color-mineral",
   "metadata": {
    "hidden": true
   },
   "outputs": [
    {
     "data": {
      "text/plain": [
       "0.76"
      ]
     },
     "execution_count": 120,
     "metadata": {},
     "output_type": "execute_result"
    }
   ],
   "source": [
    "round(fatal_cases / all_cases, 2)"
   ]
  },
  {
   "cell_type": "code",
   "execution_count": 121,
   "id": "ambient-western",
   "metadata": {
    "hidden": true
   },
   "outputs": [
    {
     "data": {
      "text/plain": [
       "<AxesSubplot:ylabel='original order'>"
      ]
     },
     "execution_count": 121,
     "metadata": {},
     "output_type": "execute_result"
    },
    {
     "data": {
      "image/png": "[encoded data removed]",
      "text/plain": [
       "<Figure size 432x288 with 1 Axes>"
      ]
     },
     "metadata": {},
     "output_type": "display_data"
    }
   ],
   "source": [
    "df_fatal.groupby('Fatal')['original order'].count().plot(kind='pie')"
   ]
  },
  {
   "cell_type": "markdown",
   "id": "unsigned-trade",
   "metadata": {
    "hidden": true
   },
   "source": [
    "76% of the KNOWN cases were not considered as Fatal.\\\n",
    "\\\n",
    "I will match this category with Country in order to try to define if there are some Countries that could have a higher fatal rate than others"
   ]
  },
  {
   "cell_type": "markdown",
   "id": "laughing-refrigerator",
   "metadata": {
    "hidden": true
   },
   "source": [
    "### Time"
   ]
  },
  {
   "cell_type": "code",
   "execution_count": 122,
   "id": "loose-orchestra",
   "metadata": {
    "hidden": true
   },
   "outputs": [
    {
     "data": {
      "text/plain": [
       "3354"
      ]
     },
     "execution_count": 122,
     "metadata": {},
     "output_type": "execute_result"
    }
   ],
   "source": [
    "df['Time'].isna().sum()"
   ]
  },
  {
   "cell_type": "code",
   "execution_count": 123,
   "id": "going-uganda",
   "metadata": {
    "hidden": true
   },
   "outputs": [],
   "source": [
    "df['Time'] = df['Time'].fillna('Unknown')"
   ]
  },
  {
   "cell_type": "code",
   "execution_count": 124,
   "id": "prerequisite-likelihood",
   "metadata": {
    "hidden": true
   },
   "outputs": [],
   "source": [
    "df['Time'] = df['Time'].astype('str')"
   ]
  },
  {
   "cell_type": "code",
   "execution_count": 125,
   "id": "medical-cheese",
   "metadata": {
    "hidden": true
   },
   "outputs": [
    {
     "data": {
      "text/plain": [
       "Unknown          3354\n",
       "Afternoon         187\n",
       "11h00             128\n",
       "Morning           121\n",
       "12h00             109\n",
       "                 ... \n",
       "13h23               1\n",
       ">08h00              1\n",
       "Late morning        1\n",
       "14h30 / 15h30       1\n",
       "8:04 pm             1\n",
       "Name: Time, Length: 367, dtype: int64"
      ]
     },
     "execution_count": 125,
     "metadata": {},
     "output_type": "execute_result"
    }
   ],
   "source": [
    "df['Time'].value_counts()"
   ]
  },
  {
   "cell_type": "code",
   "execution_count": 126,
   "id": "original-prerequisite",
   "metadata": {
    "hidden": true
   },
   "outputs": [],
   "source": [
    "# There are many unknown Time cells, too much information and not relevant and I will not analyse it\n",
    "df = df.drop(columns=['Time'])"
   ]
  },
  {
   "cell_type": "markdown",
   "id": "accredited-qatar",
   "metadata": {
    "hidden": true
   },
   "source": [
    "### Species"
   ]
  },
  {
   "cell_type": "code",
   "execution_count": 127,
   "id": "national-jumping",
   "metadata": {
    "hidden": true
   },
   "outputs": [],
   "source": [
    "# Species columns has a space at the end, I will change column name\n",
    "df.rename(columns={'Species ':'Species'}, inplace = True)"
   ]
  },
  {
   "cell_type": "code",
   "execution_count": 128,
   "id": "distant-mercy",
   "metadata": {
    "hidden": true
   },
   "outputs": [
    {
     "data": {
      "text/plain": [
       "2838"
      ]
     },
     "execution_count": 128,
     "metadata": {},
     "output_type": "execute_result"
    }
   ],
   "source": [
    "df['Species'].isna().sum()"
   ]
  },
  {
   "cell_type": "code",
   "execution_count": 129,
   "id": "distinct-trout",
   "metadata": {
    "hidden": true
   },
   "outputs": [],
   "source": [
    "df['Species'] = df['Species'].fillna('Unknown')"
   ]
  },
  {
   "cell_type": "code",
   "execution_count": 130,
   "id": "statewide-incidence",
   "metadata": {
    "hidden": true
   },
   "outputs": [],
   "source": [
    "df['Species'] = df['Species'].astype('str')"
   ]
  },
  {
   "cell_type": "code",
   "execution_count": 131,
   "id": "entitled-enhancement",
   "metadata": {
    "hidden": true
   },
   "outputs": [],
   "source": [
    "df['Species'] = df['Species'].apply(lambda x: x.upper())"
   ]
  },
  {
   "cell_type": "code",
   "execution_count": 132,
   "id": "listed-commons",
   "metadata": {
    "hidden": true
   },
   "outputs": [
    {
     "data": {
      "text/plain": [
       "UNKNOWN                                                                        2839\n",
       "WHITE SHARK                                                                     164\n",
       "SHARK INVOLVEMENT PRIOR TO DEATH WAS NOT CONFIRMED                              105\n",
       "INVALID                                                                         102\n",
       "SHARK INVOLVEMENT NOT CONFIRMED                                                  89\n",
       "                                                                               ... \n",
       " WOBBEGONG SHARK, 1.6 TO 1.8M                                                     1\n",
       "TIGER SHARK, 4 M [13']                                                            1\n",
       "SAID TO INVOLVE 2 SHARKS                                                          1\n",
       "NURSE SHARK, 2'                                                                   1\n",
       "ACCORDING TO BENJAMIN, THE INJURY WAS INFLICTED BY A BARRACUDA, NOT A SHARK       1\n",
       "Name: Species, Length: 1535, dtype: int64"
      ]
     },
     "execution_count": 132,
     "metadata": {},
     "output_type": "execute_result"
    }
   ],
   "source": [
    "df['Species'].value_counts()"
   ]
  },
  {
   "cell_type": "code",
   "execution_count": 133,
   "id": "fabulous-greensboro",
   "metadata": {
    "hidden": true
   },
   "outputs": [],
   "source": [
    "df['Species'].replace(to_replace=\".*NO SHARK.*|.*NOT A SHARK.*|.*HOAX.*\", value=\"NO SHARK INVOLVEMENT\", inplace=True, regex=True)\n",
    "df['Species'].replace(to_replace=\".*POSSIBLY.*|.*NOT CO[N]?FIRMED.*|.*UNCONF.*|.*QUESTIONABLE.*|.*DOUBT.*|.*TRUE.*|.*PROBABLE.*|.*DETERMINED.*\", value=\"QUESTIONABLE\", inplace=True, regex=True)\n",
    "df['Species'].replace(to_replace=\".*WHITE.*\", value=\"WHITE SHARK\", inplace=True, regex=True)\n",
    "df['Species'].replace(to_replace=\".*TIGER.*\", value=\"TIGER SHARK\", inplace=True, regex=True)\n",
    "df['Species'].replace(to_replace=\".*BULL.*\", value=\"BULL SHARK\", inplace=True, regex=True)\n",
    "df['Species'].replace(to_replace=\".*WOBBEGONG.*\", value=\"WOBBEGONG SHARK\", inplace=True, regex=True)\n",
    "df['Species'].replace(to_replace=\".*HAMMERHEAD.*\", value=\"HAMMERHEAD SHARK\", inplace=True, regex=True)\n",
    "df['Species'].replace(to_replace=\".*SHOVELNOSE.*\", value=\"SHOVELNOSE SHARK\", inplace=True, regex=True)\n",
    "df['Species'].replace(to_replace=\".*LEMON.*\", value=\"LEMON SHARK\", inplace=True, regex=True)\n",
    "df['Species'].replace(to_replace=\".*REEF.*\", value=\"REEF SHARK\", inplace=True, regex=True)\n",
    "df['Species'].replace(to_replace=\".*NURSE.*\", value=\"NURSE SHARK\", inplace=True, regex=True)\n",
    "df['Species'].replace(to_replace=\".*SILKY.*\", value=\"SILKY SHARK\", inplace=True, regex=True)\n",
    "df['Species'].replace(to_replace=\".*DUSKY.*\", value=\"DUSKY SHARK\", inplace=True, regex=True)\n",
    "df['Species'].replace(to_replace=\".*MAKO.*\", value=\"MAKO SHARK\", inplace=True, regex=True)\n",
    "df['Species'].replace(to_replace=\".*CARPET.*\", value=\"CARPET SHARK\", inplace=True, regex=True)\n",
    "df['Species'].replace(to_replace=\".*BLACKTIP.*\", value=\"BLACKTIP SHARK\", inplace=True, regex=True)\n",
    "df['Species'].replace(to_replace=\".*SPINNER.*\", value=\"SPINNER SHARK\", inplace=True, regex=True)\n",
    "df['Species'].replace(to_replace=\".*SEVENGILL.*\", value=\"SEVENGILL SHARK\", inplace=True, regex=True)\n",
    "df['Species'].replace(to_replace=\".*PORBEAGLE.*\", value=\"PORBEAGLE SHARK\", inplace=True, regex=True)\n",
    "df['Species'].replace(to_replace=\".*WHALE.*\", value=\"WHALER SHARK\", inplace=True, regex=True)\n",
    "df['Species'].replace(to_replace=\".*ZAMBE[ZS]I.*\", value=\"ZAMBESI SHARK\", inplace=True, regex=True)\n",
    "df['Species'].replace(to_replace=\".*COPPER.*\", value=\"COPPER SHARK\", inplace=True, regex=True)\n",
    "df['Species'].replace(to_replace=\".*RAGGEDTOOTH.*\", value=\"RAGGEDTOOTH SHARK\", inplace=True, regex=True)\n",
    "df['Species'].replace(to_replace=\".*CATSHARK.*\", value=\"CATSHARK\", inplace=True, regex=True)\n",
    "df['Species'].replace(to_replace=\".*BLUE.*\", value=\"BLUE SHARK\", inplace=True, regex=True)\n",
    "df['Species'].replace(to_replace=\".*SAND.*\", value=\"SAND SHARK\", inplace=True, regex=True)\n",
    "df['Species'].replace(to_replace=\".*COW.*\", value=\"COW SHARK\", inplace=True, regex=True)\n",
    "df['Species'].replace(to_replace=\".*SAND.*\", value=\"SAND SHARK\", inplace=True, regex=True)\n",
    "df['Species'].replace(to_replace=\".*GALAPAGOS.*\", value=\"GALAPAGOS SHARK\", inplace=True, regex=True)\n",
    "df['Species'].replace(to_replace=\".*LEOPARD.*\", value=\"LEOPARD SHARK\", inplace=True, regex=True)\n",
    "df['Species'].replace(to_replace=\".*T[H]?RESHER.*\", value=\"TRESHER SHARK\", inplace=True, regex=True)\n",
    "df['Species'].replace(to_replace=\".*DOG.*\", value=\"DOG SHARK\", inplace=True, regex=True)\n",
    "df['Species'].replace(to_replace=\".*GILL.*\", value=\"SEVENGILL SHARK\", inplace=True, regex=True)\n",
    "df['Species'].replace(to_replace=\".*BANJO.*\", value=\"BANJO SHARK\", inplace=True, regex=True)\n",
    "df['Species'].replace(to_replace=\".*GOBLIN.*\", value=\"GOBLIN SHARK\", inplace=True, regex=True)\n",
    "df['Species'].replace(to_replace=\".*SALMON.*\", value=\"SALMON SHARK\", inplace=True, regex=True)\n",
    "df['Species'].replace(to_replace=\".*\\'\\sSHARK.*|^\\s$|.*M\\S?\\sSHARK.*|.*SMALL.*|.*UNIDENTIFIED.*|.*NOT AUTH.*|UNKNOWN.+\", value=\"UNIDENTIFIED SPECIES\", inplace=True, regex=True)\n",
    "df['Species'].replace(to_replace='.*LARGE.*|.*LITTLE.*|.*SEVERAL.*|.*LONG.*|.*SHARKS.*|.*YOUNG.*|.*[0-9]\\\".*', value=\"UNIDENTIFIED SPECIES\", inplace=True, regex=True)\n",
    "df['Species'].replace(to_replace='^\".*\"$|.*JUVENILE.*|.*FOOT.*|.*KG.*|.*[0-9]\\s[C]?M.*|.*[0-9]\\'.*|.*LB.*', value=\"UNIDENTIFIED SPECIES\", inplace=True, regex=True)\n",
    "df['Species'].replace(to_replace='.*REMAINS.*|.*C\\..*|.*PORT.*|.*M.*|.*BLACK TIPPED.*', value=\"UNIDENTIFIED SPECIES\", inplace=True, regex=True)\n",
    "df['Species'].replace(to_replace=\".*[A-Z]*\\s[A-Z]*\\s[A-Z]*\\s[A-Z]*\\s.*|.*INVALID.*|.*�.*\", value=\"INVALID\", inplace=True, regex=True)"
   ]
  },
  {
   "cell_type": "code",
   "execution_count": 134,
   "id": "coated-service",
   "metadata": {
    "hidden": true
   },
   "outputs": [],
   "source": [
    "uk_cases = df[df['Species']=='UNKNOWN']['Species'].value_counts().sum()"
   ]
  },
  {
   "cell_type": "code",
   "execution_count": 135,
   "id": "passing-taiwan",
   "metadata": {
    "hidden": true
   },
   "outputs": [],
   "source": [
    "ud_cases = df[df['Species']=='UNIDENTIFIED SPECIES']['Species'].value_counts().sum()"
   ]
  },
  {
   "cell_type": "code",
   "execution_count": 136,
   "id": "major-python",
   "metadata": {
    "hidden": true
   },
   "outputs": [],
   "source": [
    "qu_cases = df[df['Species']=='QUESTIONABLE']['Species'].value_counts().sum()"
   ]
  },
  {
   "cell_type": "code",
   "execution_count": 137,
   "id": "progressive-going",
   "metadata": {
    "hidden": true
   },
   "outputs": [],
   "source": [
    "in_cases = df[df['Species']=='INVALID']['Species'].value_counts().sum()"
   ]
  },
  {
   "cell_type": "code",
   "execution_count": 138,
   "id": "involved-dragon",
   "metadata": {
    "hidden": true
   },
   "outputs": [],
   "source": [
    "all_cases = df['Species'].value_counts().sum()"
   ]
  },
  {
   "cell_type": "code",
   "execution_count": 139,
   "id": "clean-contrary",
   "metadata": {
    "hidden": true
   },
   "outputs": [
    {
     "data": {
      "text/plain": [
       "0.73"
      ]
     },
     "execution_count": 139,
     "metadata": {},
     "output_type": "execute_result"
    }
   ],
   "source": [
    "round((uk_cases + ud_cases + qu_cases + in_cases)/all_cases, 2)"
   ]
  },
  {
   "cell_type": "markdown",
   "id": "capital-christopher",
   "metadata": {
    "hidden": true
   },
   "source": [
    "A 73% of the data consists of invalid, unknown or questionable data to determine the species"
   ]
  },
  {
   "cell_type": "code",
   "execution_count": 140,
   "id": "determined-miller",
   "metadata": {
    "hidden": true
   },
   "outputs": [
    {
     "data": {
      "text/html": [
       "<div>\n",
       "<style scoped>\n",
       "    .dataframe tbody tr th:only-of-type {\n",
       "        vertical-align: middle;\n",
       "    }\n",
       "\n",
       "    .dataframe tbody tr th {\n",
       "        vertical-align: top;\n",
       "    }\n",
       "\n",
       "    .dataframe thead th {\n",
       "        text-align: right;\n",
       "    }\n",
       "</style>\n",
       "<table border=\"1\" class=\"dataframe\">\n",
       "  <thead>\n",
       "    <tr style=\"text-align: right;\">\n",
       "      <th></th>\n",
       "      <th>Year</th>\n",
       "      <th>Type</th>\n",
       "      <th>Country</th>\n",
       "      <th>Activity</th>\n",
       "      <th>Sex</th>\n",
       "      <th>Age</th>\n",
       "      <th>Fatal</th>\n",
       "      <th>Species</th>\n",
       "      <th>Investigator or Source</th>\n",
       "      <th>original order</th>\n",
       "    </tr>\n",
       "  </thead>\n",
       "  <tbody>\n",
       "  </tbody>\n",
       "</table>\n",
       "</div>"
      ],
      "text/plain": [
       "Empty DataFrame\n",
       "Columns: [Year, Type, Country, Activity, Sex, Age, Fatal, Species, Investigator or Source, original order]\n",
       "Index: []"
      ]
     },
     "execution_count": 140,
     "metadata": {},
     "output_type": "execute_result"
    }
   ],
   "source": [
    "df[df['Species']== 'NO SHARK INVOLVEMENT']"
   ]
  },
  {
   "cell_type": "code",
   "execution_count": 141,
   "id": "surprised-howard",
   "metadata": {
    "hidden": true,
    "scrolled": true
   },
   "outputs": [
    {
     "data": {
      "text/plain": [
       "<AxesSubplot:xlabel='Species'>"
      ]
     },
     "execution_count": 141,
     "metadata": {},
     "output_type": "execute_result"
    },
    {
     "data": {
      "image/png": "[encoded data removed]",
      "text/plain": [
       "<Figure size 1080x360 with 1 Axes>"
      ]
     },
     "metadata": {
      "needs_background": "light"
     },
     "output_type": "display_data"
    }
   ],
   "source": [
    "df.groupby('Species')['Year'].count().sort_values(ascending=False).nlargest(30).plot(kind='bar', figsize=(15, 5))"
   ]
  },
  {
   "cell_type": "markdown",
   "id": "reported-locator",
   "metadata": {
    "hidden": true
   },
   "source": [
    "I will keep this column in order to match the Species with the fatality of the case.\\\n",
    "\\\n",
    "Not considering unidentified cases, the most common sharks identifies are:\n",
    "- 1. White Shark\n",
    "- 2. Tiger Shark\n",
    "- 3. Bull Shark\n",
    "- 4. Nurse Shark"
   ]
  },
  {
   "cell_type": "markdown",
   "id": "bearing-victorian",
   "metadata": {
    "hidden": true
   },
   "source": [
    "### Investigator"
   ]
  },
  {
   "cell_type": "code",
   "execution_count": 142,
   "id": "automotive-upset",
   "metadata": {
    "hidden": true
   },
   "outputs": [],
   "source": [
    "# Sex columns has a space at the end, I will change column name\n",
    "df.rename(columns={'Investigator or Source':'Source'}, inplace = True)"
   ]
  },
  {
   "cell_type": "code",
   "execution_count": 143,
   "id": "conventional-diagnosis",
   "metadata": {
    "hidden": true
   },
   "outputs": [
    {
     "data": {
      "text/plain": [
       "17"
      ]
     },
     "execution_count": 143,
     "metadata": {},
     "output_type": "execute_result"
    }
   ],
   "source": [
    "df['Source'].isna().sum()"
   ]
  },
  {
   "cell_type": "code",
   "execution_count": 144,
   "id": "regional-minute",
   "metadata": {
    "hidden": true
   },
   "outputs": [],
   "source": [
    "df['Source'] = df['Source'].fillna('Unknown')"
   ]
  },
  {
   "cell_type": "code",
   "execution_count": 145,
   "id": "extensive-myanmar",
   "metadata": {
    "hidden": true
   },
   "outputs": [],
   "source": [
    "df['Source'] = df['Source'].astype('str')"
   ]
  },
  {
   "cell_type": "code",
   "execution_count": 146,
   "id": "substantial-constitution",
   "metadata": {
    "hidden": true
   },
   "outputs": [
    {
     "data": {
      "text/plain": [
       "C. Moore, GSAF                                      105\n",
       "C. Creswell, GSAF                                    92\n",
       "S. Petersohn, GSAF                                   82\n",
       "R. Collier                                           55\n",
       "T. Peake, GSAF                                       48\n",
       "                                                   ... \n",
       "Sydney Morning Herald, 12/13/1954                     1\n",
       "Star, 12/15/1909                                      1\n",
       "A.M. Rapson, p.150; L. Schultz & M. Malin, p.544      1\n",
       "Orlando Sentinel, 9/9/2001                            1\n",
       "Natal Mercury, 6/18/1958                              1\n",
       "Name: Source, Length: 4970, dtype: int64"
      ]
     },
     "execution_count": 146,
     "metadata": {},
     "output_type": "execute_result"
    }
   ],
   "source": [
    "df['Source'].value_counts()"
   ]
  },
  {
   "cell_type": "code",
   "execution_count": 147,
   "id": "historical-strategy",
   "metadata": {
    "hidden": true
   },
   "outputs": [],
   "source": [
    "# There are many different people, too much information and not relevant as I will not analyse it\n",
    "df = df.drop(columns=['Source'])"
   ]
  },
  {
   "cell_type": "markdown",
   "id": "european-operations",
   "metadata": {
    "hidden": true
   },
   "source": [
    "### Original Order"
   ]
  },
  {
   "cell_type": "code",
   "execution_count": 148,
   "id": "clinical-assets",
   "metadata": {
    "hidden": true
   },
   "outputs": [],
   "source": [
    "# As I mant to capitalise the label, I will change column name\n",
    "df.rename(columns={'original order':'Original Order'}, inplace = True)"
   ]
  },
  {
   "cell_type": "code",
   "execution_count": 149,
   "id": "greek-basement",
   "metadata": {
    "hidden": true
   },
   "outputs": [
    {
     "data": {
      "text/html": [
       "<div>\n",
       "<style scoped>\n",
       "    .dataframe tbody tr th:only-of-type {\n",
       "        vertical-align: middle;\n",
       "    }\n",
       "\n",
       "    .dataframe tbody tr th {\n",
       "        vertical-align: top;\n",
       "    }\n",
       "\n",
       "    .dataframe thead th {\n",
       "        text-align: right;\n",
       "    }\n",
       "</style>\n",
       "<table border=\"1\" class=\"dataframe\">\n",
       "  <thead>\n",
       "    <tr style=\"text-align: right;\">\n",
       "      <th></th>\n",
       "      <th>Original Order</th>\n",
       "      <th>Year</th>\n",
       "    </tr>\n",
       "  </thead>\n",
       "  <tbody>\n",
       "    <tr>\n",
       "      <th>6301</th>\n",
       "      <td>2.0</td>\n",
       "      <td>1853</td>\n",
       "    </tr>\n",
       "    <tr>\n",
       "      <th>6300</th>\n",
       "      <td>3.0</td>\n",
       "      <td>1889</td>\n",
       "    </tr>\n",
       "    <tr>\n",
       "      <th>6299</th>\n",
       "      <td>4.0</td>\n",
       "      <td>1905</td>\n",
       "    </tr>\n",
       "    <tr>\n",
       "      <th>6298</th>\n",
       "      <td>5.0</td>\n",
       "      <td>1903</td>\n",
       "    </tr>\n",
       "    <tr>\n",
       "      <th>6297</th>\n",
       "      <td>6.0</td>\n",
       "      <td>1903</td>\n",
       "    </tr>\n",
       "    <tr>\n",
       "      <th>6296</th>\n",
       "      <td>7.0</td>\n",
       "      <td>1906</td>\n",
       "    </tr>\n",
       "    <tr>\n",
       "      <th>6295</th>\n",
       "      <td>8.0</td>\n",
       "      <td>1906</td>\n",
       "    </tr>\n",
       "    <tr>\n",
       "      <th>6294</th>\n",
       "      <td>9.0</td>\n",
       "      <td>1906</td>\n",
       "    </tr>\n",
       "    <tr>\n",
       "      <th>6293</th>\n",
       "      <td>10.0</td>\n",
       "      <td>1906</td>\n",
       "    </tr>\n",
       "    <tr>\n",
       "      <th>6292</th>\n",
       "      <td>11.0</td>\n",
       "      <td>1862</td>\n",
       "    </tr>\n",
       "  </tbody>\n",
       "</table>\n",
       "</div>"
      ],
      "text/plain": [
       "      Original Order  Year\n",
       "6301             2.0  1853\n",
       "6300             3.0  1889\n",
       "6299             4.0  1905\n",
       "6298             5.0  1903\n",
       "6297             6.0  1903\n",
       "6296             7.0  1906\n",
       "6295             8.0  1906\n",
       "6294             9.0  1906\n",
       "6293            10.0  1906\n",
       "6292            11.0  1862"
      ]
     },
     "execution_count": 149,
     "metadata": {},
     "output_type": "execute_result"
    }
   ],
   "source": [
    "df[['Original Order', 'Year']].sort_values(by='Original Order', ascending=True).head(10)"
   ]
  },
  {
   "cell_type": "code",
   "execution_count": 150,
   "id": "assumed-wallace",
   "metadata": {
    "hidden": true
   },
   "outputs": [],
   "source": [
    "# Original Order does not match the only numeric variable I have, so does not make sense, I will delete it\n",
    "df = df.drop(columns=['Original Order'])"
   ]
  },
  {
   "cell_type": "markdown",
   "id": "naked-biodiversity",
   "metadata": {
    "heading_collapsed": true
   },
   "source": [
    "## Combined columns"
   ]
  },
  {
   "cell_type": "markdown",
   "id": "deadly-creature",
   "metadata": {
    "hidden": true
   },
   "source": [
    "In this module I will try to obtain insights from studying different values together."
   ]
  },
  {
   "cell_type": "markdown",
   "id": "indie-universe",
   "metadata": {
    "hidden": true
   },
   "source": [
    "### Type and Activity"
   ]
  },
  {
   "cell_type": "code",
   "execution_count": 151,
   "id": "written-spanish",
   "metadata": {
    "hidden": true
   },
   "outputs": [],
   "source": [
    "df_type = df[df['Activity']!= 'UNKNOWN']"
   ]
  },
  {
   "cell_type": "code",
   "execution_count": 152,
   "id": "architectural-retro",
   "metadata": {
    "hidden": true
   },
   "outputs": [
    {
     "data": {
      "text/html": [
       "<div>\n",
       "<style scoped>\n",
       "    .dataframe tbody tr th:only-of-type {\n",
       "        vertical-align: middle;\n",
       "    }\n",
       "\n",
       "    .dataframe tbody tr th {\n",
       "        vertical-align: top;\n",
       "    }\n",
       "\n",
       "    .dataframe thead th {\n",
       "        text-align: right;\n",
       "    }\n",
       "</style>\n",
       "<table border=\"1\" class=\"dataframe\">\n",
       "  <thead>\n",
       "    <tr style=\"text-align: right;\">\n",
       "      <th></th>\n",
       "      <th>Year</th>\n",
       "    </tr>\n",
       "    <tr>\n",
       "      <th>Type</th>\n",
       "      <th></th>\n",
       "    </tr>\n",
       "  </thead>\n",
       "  <tbody>\n",
       "    <tr>\n",
       "      <th>Provoked</th>\n",
       "      <td>539</td>\n",
       "    </tr>\n",
       "    <tr>\n",
       "      <th>Unprokoved</th>\n",
       "      <td>5216</td>\n",
       "    </tr>\n",
       "  </tbody>\n",
       "</table>\n",
       "</div>"
      ],
      "text/plain": [
       "            Year\n",
       "Type            \n",
       "Provoked     539\n",
       "Unprokoved  5216"
      ]
     },
     "execution_count": 152,
     "metadata": {},
     "output_type": "execute_result"
    }
   ],
   "source": [
    "df_type.pivot_table(index=['Type'], values='Year', aggfunc='count')"
   ]
  },
  {
   "cell_type": "code",
   "execution_count": 153,
   "id": "structured-horizontal",
   "metadata": {
    "hidden": true
   },
   "outputs": [
    {
     "data": {
      "text/html": [
       "<div>\n",
       "<style scoped>\n",
       "    .dataframe tbody tr th:only-of-type {\n",
       "        vertical-align: middle;\n",
       "    }\n",
       "\n",
       "    .dataframe tbody tr th {\n",
       "        vertical-align: top;\n",
       "    }\n",
       "\n",
       "    .dataframe thead th {\n",
       "        text-align: right;\n",
       "    }\n",
       "</style>\n",
       "<table border=\"1\" class=\"dataframe\">\n",
       "  <thead>\n",
       "    <tr style=\"text-align: right;\">\n",
       "      <th></th>\n",
       "      <th></th>\n",
       "      <th>Year</th>\n",
       "    </tr>\n",
       "    <tr>\n",
       "      <th>Type</th>\n",
       "      <th>Activity</th>\n",
       "      <th></th>\n",
       "    </tr>\n",
       "  </thead>\n",
       "  <tbody>\n",
       "    <tr>\n",
       "      <th rowspan=\"9\" valign=\"top\">Provoked</th>\n",
       "      <th>BOATING</th>\n",
       "      <td>22</td>\n",
       "    </tr>\n",
       "    <tr>\n",
       "      <th>DIVING</th>\n",
       "      <td>54</td>\n",
       "    </tr>\n",
       "    <tr>\n",
       "      <th>FEEDING</th>\n",
       "      <td>7</td>\n",
       "    </tr>\n",
       "    <tr>\n",
       "      <th>FILMING</th>\n",
       "      <td>4</td>\n",
       "    </tr>\n",
       "    <tr>\n",
       "      <th>FISHING</th>\n",
       "      <td>314</td>\n",
       "    </tr>\n",
       "    <tr>\n",
       "      <th>NOT RELEVANT</th>\n",
       "      <td>69</td>\n",
       "    </tr>\n",
       "    <tr>\n",
       "      <th>ROWING</th>\n",
       "      <td>10</td>\n",
       "    </tr>\n",
       "    <tr>\n",
       "      <th>SURFING</th>\n",
       "      <td>26</td>\n",
       "    </tr>\n",
       "    <tr>\n",
       "      <th>SWIMING</th>\n",
       "      <td>33</td>\n",
       "    </tr>\n",
       "    <tr>\n",
       "      <th rowspan=\"10\" valign=\"top\">Unprokoved</th>\n",
       "      <th>BOATING</th>\n",
       "      <td>244</td>\n",
       "    </tr>\n",
       "    <tr>\n",
       "      <th>DISASTER</th>\n",
       "      <td>178</td>\n",
       "    </tr>\n",
       "    <tr>\n",
       "      <th>DIVING</th>\n",
       "      <td>652</td>\n",
       "    </tr>\n",
       "    <tr>\n",
       "      <th>FEEDING</th>\n",
       "      <td>8</td>\n",
       "    </tr>\n",
       "    <tr>\n",
       "      <th>FILMING</th>\n",
       "      <td>9</td>\n",
       "    </tr>\n",
       "    <tr>\n",
       "      <th>FISHING</th>\n",
       "      <td>732</td>\n",
       "    </tr>\n",
       "    <tr>\n",
       "      <th>NOT RELEVANT</th>\n",
       "      <td>207</td>\n",
       "    </tr>\n",
       "    <tr>\n",
       "      <th>ROWING</th>\n",
       "      <td>153</td>\n",
       "    </tr>\n",
       "    <tr>\n",
       "      <th>SURFING</th>\n",
       "      <td>1359</td>\n",
       "    </tr>\n",
       "    <tr>\n",
       "      <th>SWIMING</th>\n",
       "      <td>1674</td>\n",
       "    </tr>\n",
       "  </tbody>\n",
       "</table>\n",
       "</div>"
      ],
      "text/plain": [
       "                         Year\n",
       "Type       Activity          \n",
       "Provoked   BOATING         22\n",
       "           DIVING          54\n",
       "           FEEDING          7\n",
       "           FILMING          4\n",
       "           FISHING        314\n",
       "           NOT RELEVANT    69\n",
       "           ROWING          10\n",
       "           SURFING         26\n",
       "           SWIMING         33\n",
       "Unprokoved BOATING        244\n",
       "           DISASTER       178\n",
       "           DIVING         652\n",
       "           FEEDING          8\n",
       "           FILMING          9\n",
       "           FISHING        732\n",
       "           NOT RELEVANT   207\n",
       "           ROWING         153\n",
       "           SURFING       1359\n",
       "           SWIMING       1674"
      ]
     },
     "execution_count": 153,
     "metadata": {},
     "output_type": "execute_result"
    }
   ],
   "source": [
    "df_type.pivot_table(index=['Type', 'Activity'], values='Year', aggfunc='count')"
   ]
  },
  {
   "cell_type": "markdown",
   "id": "friendly-testimony",
   "metadata": {
    "hidden": true
   },
   "source": [
    "More than half of the Provoked ones (314 cases out of 539) have occurred while the victim was fishing... probable Shark Fishing, that is why I could be considered as Provoked."
   ]
  },
  {
   "cell_type": "markdown",
   "id": "refined-brain",
   "metadata": {
    "hidden": true
   },
   "source": [
    "### Sex and Age"
   ]
  },
  {
   "cell_type": "code",
   "execution_count": 154,
   "id": "cutting-tragedy",
   "metadata": {
    "hidden": true
   },
   "outputs": [],
   "source": [
    "df_sex_age1 = df[(df['Sex']!= 'UNKNOWN')&(df['Age']!= 'UNKNOWN')]"
   ]
  },
  {
   "cell_type": "code",
   "execution_count": 156,
   "id": "graduate-music",
   "metadata": {
    "hidden": true
   },
   "outputs": [
    {
     "name": "stderr",
     "output_type": "stream",
     "text": [
      "<ipython-input-156-72bc4571ce20>:1: SettingWithCopyWarning: \n",
      "A value is trying to be set on a copy of a slice from a DataFrame.\n",
      "Try using .loc[row_indexer,col_indexer] = value instead\n",
      "\n",
      "See the caveats in the documentation: https://pandas.pydata.org/pandas-docs/stable/user_guide/indexing.html#returning-a-view-versus-a-copy\n",
      "  df_sex_age1['Age'] = df_sex_age1['Age'].apply(lambda x: int(x))\n"
     ]
    }
   ],
   "source": [
    "df_sex_age1['Age'] = df_sex_age1['Age'].apply(lambda x: int(x))"
   ]
  },
  {
   "cell_type": "code",
   "execution_count": 157,
   "id": "laden-judges",
   "metadata": {
    "hidden": true
   },
   "outputs": [
    {
     "data": {
      "text/html": [
       "<div>\n",
       "<style scoped>\n",
       "    .dataframe tbody tr th:only-of-type {\n",
       "        vertical-align: middle;\n",
       "    }\n",
       "\n",
       "    .dataframe tbody tr th {\n",
       "        vertical-align: top;\n",
       "    }\n",
       "\n",
       "    .dataframe thead tr th {\n",
       "        text-align: left;\n",
       "    }\n",
       "\n",
       "    .dataframe thead tr:last-of-type th {\n",
       "        text-align: right;\n",
       "    }\n",
       "</style>\n",
       "<table border=\"1\" class=\"dataframe\">\n",
       "  <thead>\n",
       "    <tr>\n",
       "      <th></th>\n",
       "      <th>mean</th>\n",
       "      <th>max</th>\n",
       "      <th>min</th>\n",
       "    </tr>\n",
       "    <tr>\n",
       "      <th></th>\n",
       "      <th>Age</th>\n",
       "      <th>Age</th>\n",
       "      <th>Age</th>\n",
       "    </tr>\n",
       "    <tr>\n",
       "      <th>Sex</th>\n",
       "      <th></th>\n",
       "      <th></th>\n",
       "      <th></th>\n",
       "    </tr>\n",
       "  </thead>\n",
       "  <tbody>\n",
       "    <tr>\n",
       "      <th>F</th>\n",
       "      <td>26.693478</td>\n",
       "      <td>77</td>\n",
       "      <td>1</td>\n",
       "    </tr>\n",
       "    <tr>\n",
       "      <th>M</th>\n",
       "      <td>27.421516</td>\n",
       "      <td>87</td>\n",
       "      <td>1</td>\n",
       "    </tr>\n",
       "  </tbody>\n",
       "</table>\n",
       "</div>"
      ],
      "text/plain": [
       "          mean max min\n",
       "           Age Age Age\n",
       "Sex                   \n",
       "F    26.693478  77   1\n",
       "M    27.421516  87   1"
      ]
     },
     "execution_count": 157,
     "metadata": {},
     "output_type": "execute_result"
    }
   ],
   "source": [
    "df_sex_age1.pivot_table(index=['Sex'], values='Age', aggfunc=[np.mean, max, min])"
   ]
  },
  {
   "cell_type": "code",
   "execution_count": 158,
   "id": "million-election",
   "metadata": {
    "hidden": true
   },
   "outputs": [],
   "source": [
    "df_sex_age2 = df[(df['Sex']!= 'UNKNOWN')&(df['Age']!= 'UNKNOWN')&(df['Activity']!= 'UNKNOWN')]"
   ]
  },
  {
   "cell_type": "code",
   "execution_count": 160,
   "id": "rational-prospect",
   "metadata": {
    "hidden": true
   },
   "outputs": [
    {
     "name": "stderr",
     "output_type": "stream",
     "text": [
      "<ipython-input-160-7f9cd48363df>:1: SettingWithCopyWarning: \n",
      "A value is trying to be set on a copy of a slice from a DataFrame.\n",
      "Try using .loc[row_indexer,col_indexer] = value instead\n",
      "\n",
      "See the caveats in the documentation: https://pandas.pydata.org/pandas-docs/stable/user_guide/indexing.html#returning-a-view-versus-a-copy\n",
      "  df_sex_age2['Age'] = df_sex_age2['Age'].apply(lambda x: int(x))\n"
     ]
    }
   ],
   "source": [
    "df_sex_age2['Age'] = df_sex_age2['Age'].apply(lambda x: int(x))"
   ]
  },
  {
   "cell_type": "code",
   "execution_count": 161,
   "id": "coated-smith",
   "metadata": {
    "hidden": true
   },
   "outputs": [
    {
     "data": {
      "text/html": [
       "<div>\n",
       "<style scoped>\n",
       "    .dataframe tbody tr th:only-of-type {\n",
       "        vertical-align: middle;\n",
       "    }\n",
       "\n",
       "    .dataframe tbody tr th {\n",
       "        vertical-align: top;\n",
       "    }\n",
       "\n",
       "    .dataframe thead tr th {\n",
       "        text-align: left;\n",
       "    }\n",
       "\n",
       "    .dataframe thead tr:last-of-type th {\n",
       "        text-align: right;\n",
       "    }\n",
       "</style>\n",
       "<table border=\"1\" class=\"dataframe\">\n",
       "  <thead>\n",
       "    <tr>\n",
       "      <th></th>\n",
       "      <th></th>\n",
       "      <th>mean</th>\n",
       "      <th>max</th>\n",
       "      <th>min</th>\n",
       "    </tr>\n",
       "    <tr>\n",
       "      <th></th>\n",
       "      <th></th>\n",
       "      <th>Age</th>\n",
       "      <th>Age</th>\n",
       "      <th>Age</th>\n",
       "    </tr>\n",
       "    <tr>\n",
       "      <th>Sex</th>\n",
       "      <th>Activity</th>\n",
       "      <th></th>\n",
       "      <th></th>\n",
       "      <th></th>\n",
       "    </tr>\n",
       "  </thead>\n",
       "  <tbody>\n",
       "    <tr>\n",
       "      <th rowspan=\"9\" valign=\"top\">F</th>\n",
       "      <th>BOATING</th>\n",
       "      <td>33.600000</td>\n",
       "      <td>51</td>\n",
       "      <td>14</td>\n",
       "    </tr>\n",
       "    <tr>\n",
       "      <th>DISASTER</th>\n",
       "      <td>36.500000</td>\n",
       "      <td>62</td>\n",
       "      <td>11</td>\n",
       "    </tr>\n",
       "    <tr>\n",
       "      <th>DIVING</th>\n",
       "      <td>37.178571</td>\n",
       "      <td>70</td>\n",
       "      <td>3</td>\n",
       "    </tr>\n",
       "    <tr>\n",
       "      <th>FEEDING</th>\n",
       "      <td>35.000000</td>\n",
       "      <td>36</td>\n",
       "      <td>34</td>\n",
       "    </tr>\n",
       "    <tr>\n",
       "      <th>FISHING</th>\n",
       "      <td>37.153846</td>\n",
       "      <td>55</td>\n",
       "      <td>21</td>\n",
       "    </tr>\n",
       "    <tr>\n",
       "      <th>NOT RELEVANT</th>\n",
       "      <td>23.285714</td>\n",
       "      <td>58</td>\n",
       "      <td>12</td>\n",
       "    </tr>\n",
       "    <tr>\n",
       "      <th>ROWING</th>\n",
       "      <td>32.071429</td>\n",
       "      <td>57</td>\n",
       "      <td>15</td>\n",
       "    </tr>\n",
       "    <tr>\n",
       "      <th>SURFING</th>\n",
       "      <td>22.185185</td>\n",
       "      <td>68</td>\n",
       "      <td>6</td>\n",
       "    </tr>\n",
       "    <tr>\n",
       "      <th>SWIMING</th>\n",
       "      <td>25.384615</td>\n",
       "      <td>77</td>\n",
       "      <td>1</td>\n",
       "    </tr>\n",
       "    <tr>\n",
       "      <th rowspan=\"10\" valign=\"top\">M</th>\n",
       "      <th>BOATING</th>\n",
       "      <td>29.744186</td>\n",
       "      <td>69</td>\n",
       "      <td>6</td>\n",
       "    </tr>\n",
       "    <tr>\n",
       "      <th>DISASTER</th>\n",
       "      <td>35.600000</td>\n",
       "      <td>74</td>\n",
       "      <td>10</td>\n",
       "    </tr>\n",
       "    <tr>\n",
       "      <th>DIVING</th>\n",
       "      <td>32.623145</td>\n",
       "      <td>74</td>\n",
       "      <td>7</td>\n",
       "    </tr>\n",
       "    <tr>\n",
       "      <th>FEEDING</th>\n",
       "      <td>31.428571</td>\n",
       "      <td>65</td>\n",
       "      <td>9</td>\n",
       "    </tr>\n",
       "    <tr>\n",
       "      <th>FILMING</th>\n",
       "      <td>32.375000</td>\n",
       "      <td>48</td>\n",
       "      <td>16</td>\n",
       "    </tr>\n",
       "    <tr>\n",
       "      <th>FISHING</th>\n",
       "      <td>30.691415</td>\n",
       "      <td>81</td>\n",
       "      <td>7</td>\n",
       "    </tr>\n",
       "    <tr>\n",
       "      <th>NOT RELEVANT</th>\n",
       "      <td>29.379747</td>\n",
       "      <td>78</td>\n",
       "      <td>1</td>\n",
       "    </tr>\n",
       "    <tr>\n",
       "      <th>ROWING</th>\n",
       "      <td>30.528302</td>\n",
       "      <td>57</td>\n",
       "      <td>9</td>\n",
       "    </tr>\n",
       "    <tr>\n",
       "      <th>SURFING</th>\n",
       "      <td>26.246521</td>\n",
       "      <td>86</td>\n",
       "      <td>6</td>\n",
       "    </tr>\n",
       "    <tr>\n",
       "      <th>SWIMING</th>\n",
       "      <td>24.749705</td>\n",
       "      <td>87</td>\n",
       "      <td>3</td>\n",
       "    </tr>\n",
       "  </tbody>\n",
       "</table>\n",
       "</div>"
      ],
      "text/plain": [
       "                       mean max min\n",
       "                        Age Age Age\n",
       "Sex Activity                       \n",
       "F   BOATING       33.600000  51  14\n",
       "    DISASTER      36.500000  62  11\n",
       "    DIVING        37.178571  70   3\n",
       "    FEEDING       35.000000  36  34\n",
       "    FISHING       37.153846  55  21\n",
       "    NOT RELEVANT  23.285714  58  12\n",
       "    ROWING        32.071429  57  15\n",
       "    SURFING       22.185185  68   6\n",
       "    SWIMING       25.384615  77   1\n",
       "M   BOATING       29.744186  69   6\n",
       "    DISASTER      35.600000  74  10\n",
       "    DIVING        32.623145  74   7\n",
       "    FEEDING       31.428571  65   9\n",
       "    FILMING       32.375000  48  16\n",
       "    FISHING       30.691415  81   7\n",
       "    NOT RELEVANT  29.379747  78   1\n",
       "    ROWING        30.528302  57   9\n",
       "    SURFING       26.246521  86   6\n",
       "    SWIMING       24.749705  87   3"
      ]
     },
     "execution_count": 161,
     "metadata": {},
     "output_type": "execute_result"
    }
   ],
   "source": [
    "df_sex_age2.pivot_table(index=['Sex','Activity'], values='Age', aggfunc=[np.mean, max, min])"
   ]
  },
  {
   "cell_type": "markdown",
   "id": "congressional-savings",
   "metadata": {
    "hidden": true
   },
   "source": [
    "Average is quite similar if we consider Sex or Sex and Activity. The only differences is that max age per activity in males is higher than women."
   ]
  },
  {
   "cell_type": "markdown",
   "id": "prescribed-belief",
   "metadata": {
    "hidden": true
   },
   "source": [
    "### Country and Fatal"
   ]
  },
  {
   "cell_type": "code",
   "execution_count": 162,
   "id": "empirical-ceiling",
   "metadata": {
    "hidden": true
   },
   "outputs": [],
   "source": [
    "df_fatal1 = df[(df['Fatal']!= 'UNKNOWN')&(df['Country']!= 'UNKNOWN')]"
   ]
  },
  {
   "cell_type": "code",
   "execution_count": 163,
   "id": "ultimate-archives",
   "metadata": {
    "hidden": true
   },
   "outputs": [],
   "source": [
    "df_fatal2 = df_fatal1.pivot_table(index=['Country'], columns=['Fatal'], values='Age', fill_value=0, aggfunc=len)"
   ]
  },
  {
   "cell_type": "code",
   "execution_count": 164,
   "id": "instrumental-intervention",
   "metadata": {
    "hidden": true
   },
   "outputs": [],
   "source": [
    "df_fatal2['Total'] =df_fatal2['N'] + df_fatal2['Y']"
   ]
  },
  {
   "cell_type": "code",
   "execution_count": 165,
   "id": "congressional-drill",
   "metadata": {
    "hidden": true
   },
   "outputs": [],
   "source": [
    "df_fatal2['Percentage Y'] = round(df_fatal2['Y'] / (df_fatal2['N'] + df_fatal2['Y'] ),2)"
   ]
  },
  {
   "cell_type": "code",
   "execution_count": 166,
   "id": "facial-survivor",
   "metadata": {
    "hidden": true,
    "scrolled": true
   },
   "outputs": [
    {
     "data": {
      "text/html": [
       "<div>\n",
       "<style scoped>\n",
       "    .dataframe tbody tr th:only-of-type {\n",
       "        vertical-align: middle;\n",
       "    }\n",
       "\n",
       "    .dataframe tbody tr th {\n",
       "        vertical-align: top;\n",
       "    }\n",
       "\n",
       "    .dataframe thead th {\n",
       "        text-align: right;\n",
       "    }\n",
       "</style>\n",
       "<table border=\"1\" class=\"dataframe\">\n",
       "  <thead>\n",
       "    <tr style=\"text-align: right;\">\n",
       "      <th>Fatal</th>\n",
       "      <th>N</th>\n",
       "      <th>Y</th>\n",
       "      <th>Total</th>\n",
       "      <th>Percentage Y</th>\n",
       "    </tr>\n",
       "    <tr>\n",
       "      <th>Country</th>\n",
       "      <th></th>\n",
       "      <th></th>\n",
       "      <th></th>\n",
       "      <th></th>\n",
       "    </tr>\n",
       "  </thead>\n",
       "  <tbody>\n",
       "    <tr>\n",
       "      <th>GUINEA</th>\n",
       "      <td>79</td>\n",
       "      <td>65</td>\n",
       "      <td>144</td>\n",
       "      <td>0.45</td>\n",
       "    </tr>\n",
       "    <tr>\n",
       "      <th>BRAZIL</th>\n",
       "      <td>64</td>\n",
       "      <td>38</td>\n",
       "      <td>102</td>\n",
       "      <td>0.37</td>\n",
       "    </tr>\n",
       "    <tr>\n",
       "      <th>AUSTRALIA</th>\n",
       "      <td>921</td>\n",
       "      <td>283</td>\n",
       "      <td>1204</td>\n",
       "      <td>0.24</td>\n",
       "    </tr>\n",
       "    <tr>\n",
       "      <th>NEW ZEALAND</th>\n",
       "      <td>91</td>\n",
       "      <td>24</td>\n",
       "      <td>115</td>\n",
       "      <td>0.21</td>\n",
       "    </tr>\n",
       "    <tr>\n",
       "      <th>SOUTH AFRICA</th>\n",
       "      <td>407</td>\n",
       "      <td>106</td>\n",
       "      <td>513</td>\n",
       "      <td>0.21</td>\n",
       "    </tr>\n",
       "    <tr>\n",
       "      <th>BAHAMAS</th>\n",
       "      <td>94</td>\n",
       "      <td>10</td>\n",
       "      <td>104</td>\n",
       "      <td>0.10</td>\n",
       "    </tr>\n",
       "    <tr>\n",
       "      <th>USA</th>\n",
       "      <td>1837</td>\n",
       "      <td>186</td>\n",
       "      <td>2023</td>\n",
       "      <td>0.09</td>\n",
       "    </tr>\n",
       "  </tbody>\n",
       "</table>\n",
       "</div>"
      ],
      "text/plain": [
       "Fatal            N    Y  Total  Percentage Y\n",
       "Country                                     \n",
       "GUINEA          79   65    144          0.45\n",
       "BRAZIL          64   38    102          0.37\n",
       "AUSTRALIA      921  283   1204          0.24\n",
       "NEW ZEALAND     91   24    115          0.21\n",
       "SOUTH AFRICA   407  106    513          0.21\n",
       "BAHAMAS         94   10    104          0.10\n",
       "USA           1837  186   2023          0.09"
      ]
     },
     "execution_count": 166,
     "metadata": {},
     "output_type": "execute_result"
    }
   ],
   "source": [
    "df_fatal2[df_fatal2['Total'] > 100].sort_values(by='Percentage Y', ascending=False)"
   ]
  },
  {
   "cell_type": "markdown",
   "id": "integral-complement",
   "metadata": {
    "hidden": true
   },
   "source": [
    "I consider a country to be relevant as having more than 100 cases.\\\n",
    "I would consider the most probable countries where someone could be fatally attacked by a Shark would be Guinea and Australia. Australia may not have a fatal incident percentage as big as Guinea, but has almost 10 times more attacks."
   ]
  },
  {
   "cell_type": "markdown",
   "id": "printable-evanescence",
   "metadata": {
    "hidden": true
   },
   "source": [
    "### Species and Fatal"
   ]
  },
  {
   "cell_type": "code",
   "execution_count": 167,
   "id": "subsequent-triumph",
   "metadata": {
    "hidden": true
   },
   "outputs": [],
   "source": [
    "df_species = df[(df['Fatal']!= 'UNKNOWN')&(df['Species']!= 'UNKNOWN')&(df['Species']!= 'UNIDENTIFIED SPECIES')&(df['Species']!= 'QUESTIONABLE')&(df['Species']!= 'INVALID')]"
   ]
  },
  {
   "cell_type": "code",
   "execution_count": 168,
   "id": "outside-cycle",
   "metadata": {
    "hidden": true
   },
   "outputs": [],
   "source": [
    "df_species1 = df_species.pivot_table(index=['Species'], columns=['Fatal'], values='Age', fill_value=0, aggfunc=len)"
   ]
  },
  {
   "cell_type": "code",
   "execution_count": 169,
   "id": "normal-gibson",
   "metadata": {
    "hidden": true
   },
   "outputs": [],
   "source": [
    "df_species1['Total'] =df_species1['N'] + df_species1['Y']"
   ]
  },
  {
   "cell_type": "code",
   "execution_count": 170,
   "id": "perfect-boutique",
   "metadata": {
    "hidden": true
   },
   "outputs": [],
   "source": [
    "df_species1['Percentage Y'] = round(df_species1['Y'] / (df_species1['N'] + df_species1['Y'] ),2)"
   ]
  },
  {
   "cell_type": "code",
   "execution_count": 171,
   "id": "promising-background",
   "metadata": {
    "hidden": true
   },
   "outputs": [
    {
     "data": {
      "text/html": [
       "<div>\n",
       "<style scoped>\n",
       "    .dataframe tbody tr th:only-of-type {\n",
       "        vertical-align: middle;\n",
       "    }\n",
       "\n",
       "    .dataframe tbody tr th {\n",
       "        vertical-align: top;\n",
       "    }\n",
       "\n",
       "    .dataframe thead th {\n",
       "        text-align: right;\n",
       "    }\n",
       "</style>\n",
       "<table border=\"1\" class=\"dataframe\">\n",
       "  <thead>\n",
       "    <tr style=\"text-align: right;\">\n",
       "      <th>Fatal</th>\n",
       "      <th>N</th>\n",
       "      <th>Y</th>\n",
       "      <th>Total</th>\n",
       "      <th>Percentage Y</th>\n",
       "    </tr>\n",
       "    <tr>\n",
       "      <th>Species</th>\n",
       "      <th></th>\n",
       "      <th></th>\n",
       "      <th></th>\n",
       "      <th></th>\n",
       "    </tr>\n",
       "  </thead>\n",
       "  <tbody>\n",
       "    <tr>\n",
       "      <th>TIGER SHARK</th>\n",
       "      <td>203</td>\n",
       "      <td>70</td>\n",
       "      <td>273</td>\n",
       "      <td>0.26</td>\n",
       "    </tr>\n",
       "    <tr>\n",
       "      <th>WHITE SHARK</th>\n",
       "      <td>499</td>\n",
       "      <td>150</td>\n",
       "      <td>649</td>\n",
       "      <td>0.23</td>\n",
       "    </tr>\n",
       "    <tr>\n",
       "      <th>BULL SHARK</th>\n",
       "      <td>130</td>\n",
       "      <td>36</td>\n",
       "      <td>166</td>\n",
       "      <td>0.22</td>\n",
       "    </tr>\n",
       "  </tbody>\n",
       "</table>\n",
       "</div>"
      ],
      "text/plain": [
       "Fatal          N    Y  Total  Percentage Y\n",
       "Species                                   \n",
       "TIGER SHARK  203   70    273          0.26\n",
       "WHITE SHARK  499  150    649          0.23\n",
       "BULL SHARK   130   36    166          0.22"
      ]
     },
     "execution_count": 171,
     "metadata": {},
     "output_type": "execute_result"
    }
   ],
   "source": [
    "df_species1[df_species1['Y'] > 20].sort_values(by='Percentage Y', ascending=False)"
   ]
  },
  {
   "cell_type": "markdown",
   "id": "endless-symposium",
   "metadata": {
    "hidden": true
   },
   "source": [
    "I consider a shark specie to be relevant as having more than 20 cases with Fatal incident.\\\n",
    "Despite of the legends and being the specie that is more commonly involved in a shark attack, white sharks is not the specie that produces more fatal incidents per incidents.\\\n",
    "However, the percentage difference is just 3%, and considering that produces many more incidents than other, we would consider White Shark as the most dangerous specie."
   ]
  }
 ],
 "metadata": {
  "kernelspec": {
   "display_name": "Python 3",
   "language": "python",
   "name": "python3"
  },
  "language_info": {
   "codemirror_mode": {
    "name": "ipython",
    "version": 3
   },
   "file_extension": ".py",
   "mimetype": "text/x-python",
   "name": "python",
   "nbconvert_exporter": "python",
   "pygments_lexer": "ipython3",
   "version": "3.8.3"
  },
  "toc": {
   "base_numbering": 1,
   "nav_menu": {},
   "number_sections": true,
   "sideBar": true,
   "skip_h1_title": false,
   "title_cell": "Table of Contents",
   "title_sidebar": "Contents",
   "toc_cell": false,
   "toc_position": {},
   "toc_section_display": true,
   "toc_window_display": false
  },
  "varInspector": {
   "cols": {
    "lenName": 16,
    "lenType": 16,
    "lenVar": 40
   },
   "kernels_config": {
    "python": {
     "delete_cmd_postfix": "",
     "delete_cmd_prefix": "del ",
     "library": "var_list.py",
     "varRefreshCmd": "print(var_dic_list())"
    },
    "r": {
     "delete_cmd_postfix": ") ",
     "delete_cmd_prefix": "rm(",
     "library": "var_list.r",
     "varRefreshCmd": "cat(var_dic_list()) "
    }
   },
   "types_to_exclude": [
    "module",
    "function",
    "builtin_function_or_method",
    "instance",
    "_Feature"
   ],
   "window_display": false
  }
 },
 "nbformat": 4,
 "nbformat_minor": 5
}
